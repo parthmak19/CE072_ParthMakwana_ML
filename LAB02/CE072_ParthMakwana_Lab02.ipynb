{
  "nbformat": 4,
  "nbformat_minor": 0,
  "metadata": {
    "colab": {
      "name": "CE072_ParthMakwana_Lab02.ipynb",
      "provenance": [],
      "collapsed_sections": []
    },
    "kernelspec": {
      "name": "python3",
      "display_name": "Python 3"
    },
    "language_info": {
      "name": "python"
    }
  },
  "cells": [
    {
      "cell_type": "markdown",
      "source": [
        "**Lab 2**"
      ],
      "metadata": {
        "id": "HpGvgMy1vcxx"
      }
    },
    {
      "cell_type": "markdown",
      "source": [
        "**Handling Missing Values**"
      ],
      "metadata": {
        "id": "o66qb1kB-TQk"
      }
    },
    {
      "cell_type": "code",
      "source": [
        "import numpy as np\n",
        "import pandas as pd\n",
        "from sklearn.preprocessing import MinMaxScaler, StandardScaler ,LabelEncoder,OneHotEncoder\n",
        "import seaborn as sns\n",
        "# from google.colab import drive \n",
        "# drive.mount('/content/drive')"
      ],
      "metadata": {
        "id": "soZyk6XfveXt"
      },
      "execution_count": null,
      "outputs": []
    },
    {
      "cell_type": "code",
      "source": [
        "datasets = pd.read_csv('/content/drive/MyDrive/Data/Exercise-CarData.csv',index_col=0)\n",
        "print(datasets)"
      ],
      "metadata": {
        "colab": {
          "base_uri": "https://localhost:8080/"
        },
        "id": "OKPTGYkcwdV8",
        "outputId": "a156413d-1c25-4690-9234-dd7b033fa5b6"
      },
      "execution_count": null,
      "outputs": [
        {
          "output_type": "stream",
          "name": "stdout",
          "text": [
            "      Price   Age     KM FuelType  ... Automatic    CC  Doors  Weight\n",
            "0     13500  23.0  46986   Diesel  ...         0  2000  three    1165\n",
            "1     13750  23.0  72937   Diesel  ...         0  2000      3    1165\n",
            "2     13950  24.0  41711   Diesel  ...         0  2000      3    1165\n",
            "3     14950  26.0  48000   Diesel  ...         0  2000      3    1165\n",
            "4     13750  30.0  38500   Diesel  ...         0  2000      3    1170\n",
            "...     ...   ...    ...      ...  ...       ...   ...    ...     ...\n",
            "1431   7500   NaN  20544   Petrol  ...         0  1300      3    1025\n",
            "1432  10845  72.0     ??   Petrol  ...         0  1300      3    1015\n",
            "1433   8500   NaN  17016   Petrol  ...         0  1300      3    1015\n",
            "1434   7250  70.0     ??      NaN  ...         0  1300      3    1015\n",
            "1435   6950  76.0      1   Petrol  ...         0  1600      5    1114\n",
            "\n",
            "[1436 rows x 10 columns]\n"
          ]
        }
      ]
    },
    {
      "cell_type": "code",
      "source": [
        "print(\"\\nData statistics :\\n\",datasets.describe())"
      ],
      "metadata": {
        "colab": {
          "base_uri": "https://localhost:8080/"
        },
        "id": "j5BNabhQ2ELL",
        "outputId": "66b34978-a59a-47c6-b722-288c26cbf1ab"
      },
      "execution_count": null,
      "outputs": [
        {
          "output_type": "stream",
          "name": "stdout",
          "text": [
            "\n",
            "Data statistics :\n",
            "               Price          Age  ...           CC      Weight\n",
            "count   1436.000000  1336.000000  ...  1436.000000  1436.00000\n",
            "mean   10730.824513    55.672156  ...  1566.827994  1072.45961\n",
            "std     3626.964585    18.589804  ...   187.182436    52.64112\n",
            "min     4350.000000     1.000000  ...  1300.000000  1000.00000\n",
            "25%     8450.000000    43.000000  ...  1400.000000  1040.00000\n",
            "50%     9900.000000    60.000000  ...  1600.000000  1070.00000\n",
            "75%    11950.000000    70.000000  ...  1600.000000  1085.00000\n",
            "max    32500.000000    80.000000  ...  2000.000000  1615.00000\n",
            "\n",
            "[8 rows x 6 columns]\n"
          ]
        }
      ]
    },
    {
      "cell_type": "code",
      "source": [
        "X = datasets.iloc[:, :-1].values \n",
        "Y = datasets.iloc[:, -1].values \n",
        "print(\"\\n\\nInput : \\n\", X) \n",
        "print(\"\\n\\nOutput: \\n\", Y) "
      ],
      "metadata": {
        "colab": {
          "base_uri": "https://localhost:8080/"
        },
        "id": "U4TvAG6gwou2",
        "outputId": "a1b9318e-579e-4e9e-be8a-1c1f6fd2e489"
      },
      "execution_count": null,
      "outputs": [
        {
          "output_type": "stream",
          "name": "stdout",
          "text": [
            "\n",
            "\n",
            "Input : \n",
            " [[13500 23.0 '46986' ... 0 2000 'three']\n",
            " [13750 23.0 '72937' ... 0 2000 '3']\n",
            " [13950 24.0 '41711' ... 0 2000 '3']\n",
            " ...\n",
            " [8500 nan '17016' ... 0 1300 '3']\n",
            " [7250 70.0 '??' ... 0 1300 '3']\n",
            " [6950 76.0 '1' ... 0 1600 '5']]\n",
            "\n",
            "\n",
            "Output: \n",
            " [1165 1165 1165 ... 1015 1015 1114]\n"
          ]
        }
      ]
    },
    {
      "cell_type": "code",
      "source": [
        "# Removing the row with all null values\n",
        "datasets.dropna(axis=0,how='all',inplace=True)\n",
        "print(\"New Data :\\n\\n\",datasets)"
      ],
      "metadata": {
        "colab": {
          "base_uri": "https://localhost:8080/"
        },
        "id": "YZeBal2T6CRj",
        "outputId": "4679cce3-c455-41b6-eb99-b25f142431fb"
      },
      "execution_count": null,
      "outputs": [
        {
          "output_type": "stream",
          "name": "stdout",
          "text": [
            "New Data :\n",
            "\n",
            "       Price   Age     KM FuelType  ... Automatic    CC  Doors  Weight\n",
            "0     13500  23.0  46986   Diesel  ...         0  2000  three    1165\n",
            "1     13750  23.0  72937   Diesel  ...         0  2000      3    1165\n",
            "3     14950  26.0  48000   Diesel  ...         0  2000      3    1165\n",
            "4     13750  30.0  38500   Diesel  ...         0  2000      3    1170\n",
            "5     12950  32.0  61000   Diesel  ...         0  2000      3    1170\n",
            "...     ...   ...    ...      ...  ...       ...   ...    ...     ...\n",
            "1425   7950  80.0  50000   Petrol  ...         0  1300      4    1000\n",
            "1429   8950  78.0  24000   Petrol  ...         1  1300      5    1065\n",
            "1430   8450  80.0  23000   Petrol  ...         0  1300      3    1015\n",
            "1432  10845  72.0  50000   Petrol  ...         0  1300      3    1015\n",
            "1435   6950  76.0      1   Petrol  ...         0  1600      5    1114\n",
            "\n",
            "[1111 rows x 10 columns]\n"
          ]
        }
      ]
    },
    {
      "cell_type": "code",
      "source": [
        "df = datasets;\n",
        "\n",
        "df['Price'] = pd.to_numeric(df.Price.astype(str).str.replace(',',''), errors='coerce')\n",
        "df['Price'] = df['Price'].fillna(df['Price'].mean())\n",
        "df['Age']=df['Age'].fillna(df['Age'].mean())\n",
        "df['KM'] = pd.to_numeric(df.KM.astype(str).str.replace(',',''), errors='coerce')\n",
        "df['KM'] = df['KM'].fillna(df['KM'].mean())\n",
        "df['HP'] = pd.to_numeric(df.HP.astype(str).str.replace(',',''), errors='coerce').fillna(90).astype(int)\n",
        "df['MetColor'] = pd.to_numeric(df.MetColor.astype(str).str.replace(',',''), errors='coerce').fillna(1).astype(int)\n",
        "df['Automatic'] = pd.to_numeric(df.Automatic.astype(str).str.replace(',',''), errors='coerce').fillna(0).astype(int)\n",
        "df['CC'] = pd.to_numeric(df.CC.astype(str).str.replace(',',''), errors='coerce')\n",
        "df['CC'] = df['CC'].fillna(df['CC'].mean())\n",
        "df['Doors'] = pd.to_numeric(df.Doors.astype(str).str.replace(',',''), errors='coerce').fillna(4).astype(int)\n",
        "df['Weight'] = pd.to_numeric(df.Weight.astype(str).str.replace(',',''), errors='coerce')\n",
        "df['Weight'] = df['Weight'].fillna(df['Weight'].mean())\n",
        "\n",
        "df"
      ],
      "metadata": {
        "colab": {
          "base_uri": "https://localhost:8080/",
          "height": 423
        },
        "id": "JkofEq-c9TWy",
        "outputId": "50ae8006-4507-467f-837a-9f792df36f87"
      },
      "execution_count": null,
      "outputs": [
        {
          "output_type": "execute_result",
          "data": {
            "text/html": [
              "\n",
              "  <div id=\"df-fb415b9c-f05d-447a-8aff-ccf41d9f10fd\">\n",
              "    <div class=\"colab-df-container\">\n",
              "      <div>\n",
              "<style scoped>\n",
              "    .dataframe tbody tr th:only-of-type {\n",
              "        vertical-align: middle;\n",
              "    }\n",
              "\n",
              "    .dataframe tbody tr th {\n",
              "        vertical-align: top;\n",
              "    }\n",
              "\n",
              "    .dataframe thead th {\n",
              "        text-align: right;\n",
              "    }\n",
              "</style>\n",
              "<table border=\"1\" class=\"dataframe\">\n",
              "  <thead>\n",
              "    <tr style=\"text-align: right;\">\n",
              "      <th></th>\n",
              "      <th>Price</th>\n",
              "      <th>Age</th>\n",
              "      <th>KM</th>\n",
              "      <th>FuelType</th>\n",
              "      <th>HP</th>\n",
              "      <th>MetColor</th>\n",
              "      <th>Automatic</th>\n",
              "      <th>CC</th>\n",
              "      <th>Doors</th>\n",
              "      <th>Weight</th>\n",
              "    </tr>\n",
              "  </thead>\n",
              "  <tbody>\n",
              "    <tr>\n",
              "      <th>0</th>\n",
              "      <td>13500</td>\n",
              "      <td>23.0</td>\n",
              "      <td>46986</td>\n",
              "      <td>Diesel</td>\n",
              "      <td>90</td>\n",
              "      <td>1</td>\n",
              "      <td>0</td>\n",
              "      <td>2000</td>\n",
              "      <td>4</td>\n",
              "      <td>1165</td>\n",
              "    </tr>\n",
              "    <tr>\n",
              "      <th>1</th>\n",
              "      <td>13750</td>\n",
              "      <td>23.0</td>\n",
              "      <td>72937</td>\n",
              "      <td>Diesel</td>\n",
              "      <td>90</td>\n",
              "      <td>1</td>\n",
              "      <td>0</td>\n",
              "      <td>2000</td>\n",
              "      <td>3</td>\n",
              "      <td>1165</td>\n",
              "    </tr>\n",
              "    <tr>\n",
              "      <th>3</th>\n",
              "      <td>14950</td>\n",
              "      <td>26.0</td>\n",
              "      <td>48000</td>\n",
              "      <td>Diesel</td>\n",
              "      <td>90</td>\n",
              "      <td>0</td>\n",
              "      <td>0</td>\n",
              "      <td>2000</td>\n",
              "      <td>3</td>\n",
              "      <td>1165</td>\n",
              "    </tr>\n",
              "    <tr>\n",
              "      <th>4</th>\n",
              "      <td>13750</td>\n",
              "      <td>30.0</td>\n",
              "      <td>38500</td>\n",
              "      <td>Diesel</td>\n",
              "      <td>90</td>\n",
              "      <td>0</td>\n",
              "      <td>0</td>\n",
              "      <td>2000</td>\n",
              "      <td>3</td>\n",
              "      <td>1170</td>\n",
              "    </tr>\n",
              "    <tr>\n",
              "      <th>5</th>\n",
              "      <td>12950</td>\n",
              "      <td>32.0</td>\n",
              "      <td>61000</td>\n",
              "      <td>Diesel</td>\n",
              "      <td>90</td>\n",
              "      <td>0</td>\n",
              "      <td>0</td>\n",
              "      <td>2000</td>\n",
              "      <td>3</td>\n",
              "      <td>1170</td>\n",
              "    </tr>\n",
              "    <tr>\n",
              "      <th>...</th>\n",
              "      <td>...</td>\n",
              "      <td>...</td>\n",
              "      <td>...</td>\n",
              "      <td>...</td>\n",
              "      <td>...</td>\n",
              "      <td>...</td>\n",
              "      <td>...</td>\n",
              "      <td>...</td>\n",
              "      <td>...</td>\n",
              "      <td>...</td>\n",
              "    </tr>\n",
              "    <tr>\n",
              "      <th>1425</th>\n",
              "      <td>7950</td>\n",
              "      <td>80.0</td>\n",
              "      <td>50000</td>\n",
              "      <td>Petrol</td>\n",
              "      <td>86</td>\n",
              "      <td>1</td>\n",
              "      <td>0</td>\n",
              "      <td>1300</td>\n",
              "      <td>4</td>\n",
              "      <td>1000</td>\n",
              "    </tr>\n",
              "    <tr>\n",
              "      <th>1429</th>\n",
              "      <td>8950</td>\n",
              "      <td>78.0</td>\n",
              "      <td>24000</td>\n",
              "      <td>Petrol</td>\n",
              "      <td>86</td>\n",
              "      <td>1</td>\n",
              "      <td>1</td>\n",
              "      <td>1300</td>\n",
              "      <td>5</td>\n",
              "      <td>1065</td>\n",
              "    </tr>\n",
              "    <tr>\n",
              "      <th>1430</th>\n",
              "      <td>8450</td>\n",
              "      <td>80.0</td>\n",
              "      <td>23000</td>\n",
              "      <td>Petrol</td>\n",
              "      <td>86</td>\n",
              "      <td>0</td>\n",
              "      <td>0</td>\n",
              "      <td>1300</td>\n",
              "      <td>3</td>\n",
              "      <td>1015</td>\n",
              "    </tr>\n",
              "    <tr>\n",
              "      <th>1432</th>\n",
              "      <td>10845</td>\n",
              "      <td>72.0</td>\n",
              "      <td>50000</td>\n",
              "      <td>Petrol</td>\n",
              "      <td>86</td>\n",
              "      <td>0</td>\n",
              "      <td>0</td>\n",
              "      <td>1300</td>\n",
              "      <td>3</td>\n",
              "      <td>1015</td>\n",
              "    </tr>\n",
              "    <tr>\n",
              "      <th>1435</th>\n",
              "      <td>6950</td>\n",
              "      <td>76.0</td>\n",
              "      <td>1</td>\n",
              "      <td>Petrol</td>\n",
              "      <td>110</td>\n",
              "      <td>0</td>\n",
              "      <td>0</td>\n",
              "      <td>1600</td>\n",
              "      <td>5</td>\n",
              "      <td>1114</td>\n",
              "    </tr>\n",
              "  </tbody>\n",
              "</table>\n",
              "<p>1111 rows × 10 columns</p>\n",
              "</div>\n",
              "      <button class=\"colab-df-convert\" onclick=\"convertToInteractive('df-fb415b9c-f05d-447a-8aff-ccf41d9f10fd')\"\n",
              "              title=\"Convert this dataframe to an interactive table.\"\n",
              "              style=\"display:none;\">\n",
              "        \n",
              "  <svg xmlns=\"http://www.w3.org/2000/svg\" height=\"24px\"viewBox=\"0 0 24 24\"\n",
              "       width=\"24px\">\n",
              "    <path d=\"M0 0h24v24H0V0z\" fill=\"none\"/>\n",
              "    <path d=\"M18.56 5.44l.94 2.06.94-2.06 2.06-.94-2.06-.94-.94-2.06-.94 2.06-2.06.94zm-11 1L8.5 8.5l.94-2.06 2.06-.94-2.06-.94L8.5 2.5l-.94 2.06-2.06.94zm10 10l.94 2.06.94-2.06 2.06-.94-2.06-.94-.94-2.06-.94 2.06-2.06.94z\"/><path d=\"M17.41 7.96l-1.37-1.37c-.4-.4-.92-.59-1.43-.59-.52 0-1.04.2-1.43.59L10.3 9.45l-7.72 7.72c-.78.78-.78 2.05 0 2.83L4 21.41c.39.39.9.59 1.41.59.51 0 1.02-.2 1.41-.59l7.78-7.78 2.81-2.81c.8-.78.8-2.07 0-2.86zM5.41 20L4 18.59l7.72-7.72 1.47 1.35L5.41 20z\"/>\n",
              "  </svg>\n",
              "      </button>\n",
              "      \n",
              "  <style>\n",
              "    .colab-df-container {\n",
              "      display:flex;\n",
              "      flex-wrap:wrap;\n",
              "      gap: 12px;\n",
              "    }\n",
              "\n",
              "    .colab-df-convert {\n",
              "      background-color: #E8F0FE;\n",
              "      border: none;\n",
              "      border-radius: 50%;\n",
              "      cursor: pointer;\n",
              "      display: none;\n",
              "      fill: #1967D2;\n",
              "      height: 32px;\n",
              "      padding: 0 0 0 0;\n",
              "      width: 32px;\n",
              "    }\n",
              "\n",
              "    .colab-df-convert:hover {\n",
              "      background-color: #E2EBFA;\n",
              "      box-shadow: 0px 1px 2px rgba(60, 64, 67, 0.3), 0px 1px 3px 1px rgba(60, 64, 67, 0.15);\n",
              "      fill: #174EA6;\n",
              "    }\n",
              "\n",
              "    [theme=dark] .colab-df-convert {\n",
              "      background-color: #3B4455;\n",
              "      fill: #D2E3FC;\n",
              "    }\n",
              "\n",
              "    [theme=dark] .colab-df-convert:hover {\n",
              "      background-color: #434B5C;\n",
              "      box-shadow: 0px 1px 3px 1px rgba(0, 0, 0, 0.15);\n",
              "      filter: drop-shadow(0px 1px 2px rgba(0, 0, 0, 0.3));\n",
              "      fill: #FFFFFF;\n",
              "    }\n",
              "  </style>\n",
              "\n",
              "      <script>\n",
              "        const buttonEl =\n",
              "          document.querySelector('#df-fb415b9c-f05d-447a-8aff-ccf41d9f10fd button.colab-df-convert');\n",
              "        buttonEl.style.display =\n",
              "          google.colab.kernel.accessAllowed ? 'block' : 'none';\n",
              "\n",
              "        async function convertToInteractive(key) {\n",
              "          const element = document.querySelector('#df-fb415b9c-f05d-447a-8aff-ccf41d9f10fd');\n",
              "          const dataTable =\n",
              "            await google.colab.kernel.invokeFunction('convertToInteractive',\n",
              "                                                     [key], {});\n",
              "          if (!dataTable) return;\n",
              "\n",
              "          const docLinkHtml = 'Like what you see? Visit the ' +\n",
              "            '<a target=\"_blank\" href=https://colab.research.google.com/notebooks/data_table.ipynb>data table notebook</a>'\n",
              "            + ' to learn more about interactive tables.';\n",
              "          element.innerHTML = '';\n",
              "          dataTable['output_type'] = 'display_data';\n",
              "          await google.colab.output.renderOutput(dataTable, element);\n",
              "          const docLink = document.createElement('div');\n",
              "          docLink.innerHTML = docLinkHtml;\n",
              "          element.appendChild(docLink);\n",
              "        }\n",
              "      </script>\n",
              "    </div>\n",
              "  </div>\n",
              "  "
            ],
            "text/plain": [
              "      Price   Age     KM FuelType  ...  Automatic    CC  Doors  Weight\n",
              "0     13500  23.0  46986   Diesel  ...          0  2000      4    1165\n",
              "1     13750  23.0  72937   Diesel  ...          0  2000      3    1165\n",
              "3     14950  26.0  48000   Diesel  ...          0  2000      3    1165\n",
              "4     13750  30.0  38500   Diesel  ...          0  2000      3    1170\n",
              "5     12950  32.0  61000   Diesel  ...          0  2000      3    1170\n",
              "...     ...   ...    ...      ...  ...        ...   ...    ...     ...\n",
              "1425   7950  80.0  50000   Petrol  ...          0  1300      4    1000\n",
              "1429   8950  78.0  24000   Petrol  ...          1  1300      5    1065\n",
              "1430   8450  80.0  23000   Petrol  ...          0  1300      3    1015\n",
              "1432  10845  72.0  50000   Petrol  ...          0  1300      3    1015\n",
              "1435   6950  76.0      1   Petrol  ...          0  1600      5    1114\n",
              "\n",
              "[1111 rows x 10 columns]"
            ]
          },
          "metadata": {},
          "execution_count": 17
        }
      ]
    },
    {
      "cell_type": "markdown",
      "source": [
        "**Data Transformation**"
      ],
      "metadata": {
        "id": "Lux2TzfI-hMY"
      }
    },
    {
      "cell_type": "code",
      "source": [
        "# X = df.loc[:, df.columns!=\"FuelType\"]\n",
        "X = datasets.iloc[:, :-1].values \n",
        "Y = df.iloc[:, -1].values \n",
        "\n",
        "print(\"\\n\\nInput : \\n\", X) \n",
        "print(\"\\n\\nOutput: \\n\", Y) \n",
        "\n",
        "X_new = df.iloc[:,1:3].values\n",
        "print(\"\\n\\nX for transformation : \\n\", X_new)"
      ],
      "metadata": {
        "colab": {
          "base_uri": "https://localhost:8080/"
        },
        "id": "X5rn-PrP-uPT",
        "outputId": "61bb46d9-879b-4aa0-8b22-982772645706"
      },
      "execution_count": null,
      "outputs": [
        {
          "output_type": "stream",
          "name": "stdout",
          "text": [
            "\n",
            "\n",
            "Input : \n",
            " [[0.0e+00 1.0e+00 0.0e+00 ... 0.0e+00 2.0e+03 4.0e+00]\n",
            " [0.0e+00 1.0e+00 0.0e+00 ... 0.0e+00 2.0e+03 3.0e+00]\n",
            " [0.0e+00 1.0e+00 0.0e+00 ... 0.0e+00 2.0e+03 3.0e+00]\n",
            " ...\n",
            " [0.0e+00 0.0e+00 1.0e+00 ... 0.0e+00 1.3e+03 3.0e+00]\n",
            " [0.0e+00 0.0e+00 1.0e+00 ... 0.0e+00 1.3e+03 3.0e+00]\n",
            " [0.0e+00 0.0e+00 1.0e+00 ... 0.0e+00 1.6e+03 5.0e+00]]\n",
            "\n",
            "\n",
            "Output: \n",
            " [1165 1165 1165 ... 1015 1015 1114]\n",
            "\n",
            "\n",
            "X for transformation : \n",
            " [[2.3000e+01 4.6986e+04]\n",
            " [2.3000e+01 7.2937e+04]\n",
            " [2.6000e+01 4.8000e+04]\n",
            " ...\n",
            " [8.0000e+01 2.3000e+04]\n",
            " [7.2000e+01 5.0000e+04]\n",
            " [7.6000e+01 1.0000e+00]]\n"
          ]
        }
      ]
    },
    {
      "cell_type": "code",
      "source": [
        "scaler = MinMaxScaler()\n",
        "X_scaled = scaler.fit_transform(X_new )\n",
        "print(\"Scaled X : \\n\\n\", X_scaled)"
      ],
      "metadata": {
        "colab": {
          "base_uri": "https://localhost:8080/"
        },
        "id": "A35CHLYsAHgm",
        "outputId": "efcf2519-4a51-49e6-eebd-ef483b7306e2"
      },
      "execution_count": null,
      "outputs": [
        {
          "output_type": "stream",
          "name": "stdout",
          "text": [
            "Scaled X : \n",
            "\n",
            " [[0.27848101 0.19335471]\n",
            " [0.27848101 0.30014938]\n",
            " [0.3164557  0.19752756]\n",
            " ...\n",
            " [1.         0.09464648]\n",
            " [0.89873418 0.20575805]\n",
            " [0.94936709 0.        ]]\n"
          ]
        }
      ]
    },
    {
      "cell_type": "code",
      "source": [
        "scaler = MinMaxScaler()\n",
        "X_scaled = scaler.fit_transform(X_new)\n",
        "print(\"\\n\\nScaled X : \\n\", X_scaled)"
      ],
      "metadata": {
        "colab": {
          "base_uri": "https://localhost:8080/"
        },
        "id": "saT8Dmwa6Eze",
        "outputId": "03668736-4d6f-4a64-f96a-f8d10254f5dd"
      },
      "execution_count": null,
      "outputs": [
        {
          "output_type": "stream",
          "name": "stdout",
          "text": [
            "\n",
            "\n",
            "Scaled X : \n",
            " [[0.27848101 0.19335471]\n",
            " [0.27848101 0.30014938]\n",
            " [0.3164557  0.19752756]\n",
            " ...\n",
            " [1.         0.09464648]\n",
            " [0.89873418 0.20575805]\n",
            " [0.94936709 0.        ]]\n"
          ]
        }
      ]
    },
    {
      "cell_type": "markdown",
      "source": [
        "**Handling Categorical Data**"
      ],
      "metadata": {
        "id": "0HO6xtcV7I2O"
      }
    },
    {
      "cell_type": "code",
      "source": [
        "datasets = pd.read_csv('/content/drive/MyDrive/Data/Exercise-CarData.csv',index_col=0)\n",
        "print(\"\\nData :\\n\",datasets)"
      ],
      "metadata": {
        "colab": {
          "base_uri": "https://localhost:8080/"
        },
        "id": "CLC05-0u_ej8",
        "outputId": "8aec98e3-46b0-4b7b-ac7d-50be9ea55624"
      },
      "execution_count": null,
      "outputs": [
        {
          "output_type": "stream",
          "name": "stdout",
          "text": [
            "\n",
            "Data :\n",
            "       Price   Age     KM FuelType  ... Automatic    CC  Doors  Weight\n",
            "0     13500  23.0  46986   Diesel  ...         0  2000  three    1165\n",
            "1     13750  23.0  72937   Diesel  ...         0  2000      3    1165\n",
            "2     13950  24.0  41711   Diesel  ...         0  2000      3    1165\n",
            "3     14950  26.0  48000   Diesel  ...         0  2000      3    1165\n",
            "4     13750  30.0  38500   Diesel  ...         0  2000      3    1170\n",
            "...     ...   ...    ...      ...  ...       ...   ...    ...     ...\n",
            "1431   7500   NaN  20544   Petrol  ...         0  1300      3    1025\n",
            "1432  10845  72.0     ??   Petrol  ...         0  1300      3    1015\n",
            "1433   8500   NaN  17016   Petrol  ...         0  1300      3    1015\n",
            "1434   7250  70.0     ??      NaN  ...         0  1300      3    1015\n",
            "1435   6950  76.0      1   Petrol  ...         0  1600      5    1114\n",
            "\n",
            "[1436 rows x 10 columns]\n"
          ]
        }
      ]
    },
    {
      "cell_type": "code",
      "source": [
        "le = LabelEncoder()\n",
        "X[ : ,0] = le.fit_transform(X[ : ,0])\n",
        "print(\"\\n\\nInput : \\n\", X) "
      ],
      "metadata": {
        "colab": {
          "base_uri": "https://localhost:8080/"
        },
        "id": "Ubq8NTOe7RiA",
        "outputId": "6a13683c-3296-4f29-f392-d79dd366076b"
      },
      "execution_count": null,
      "outputs": [
        {
          "output_type": "stream",
          "name": "stdout",
          "text": [
            "\n",
            "\n",
            "Input : \n",
            " [[1.8e+01 1.0e+00 0.0e+00 ... 0.0e+00 2.0e+03 4.0e+00]\n",
            " [1.8e+01 1.0e+00 0.0e+00 ... 0.0e+00 2.0e+03 3.0e+00]\n",
            " [2.1e+01 1.0e+00 0.0e+00 ... 0.0e+00 2.0e+03 3.0e+00]\n",
            " ...\n",
            " [7.5e+01 0.0e+00 1.0e+00 ... 0.0e+00 1.3e+03 3.0e+00]\n",
            " [6.7e+01 0.0e+00 1.0e+00 ... 0.0e+00 1.3e+03 3.0e+00]\n",
            " [7.1e+01 0.0e+00 1.0e+00 ... 0.0e+00 1.6e+03 5.0e+00]]\n"
          ]
        }
      ]
    },
    {
      "cell_type": "code",
      "source": [
        "dummy = pd.get_dummies(datasets['FuelType'])\n",
        "print(\"\\n\\nDummy :\\n\",dummy)"
      ],
      "metadata": {
        "colab": {
          "base_uri": "https://localhost:8080/"
        },
        "id": "alsRyz8e_Epi",
        "outputId": "6a57a36d-df36-4dc5-84d1-ebf2a58b9ef5"
      },
      "execution_count": null,
      "outputs": [
        {
          "output_type": "stream",
          "name": "stdout",
          "text": [
            "\n",
            "\n",
            "Dummy :\n",
            "       CNG  Diesel  Petrol\n",
            "0       0       1       0\n",
            "1       0       1       0\n",
            "2       0       1       0\n",
            "3       0       1       0\n",
            "4       0       1       0\n",
            "...   ...     ...     ...\n",
            "1431    0       0       1\n",
            "1432    0       0       1\n",
            "1433    0       0       1\n",
            "1434    0       0       0\n",
            "1435    0       0       1\n",
            "\n",
            "[1436 rows x 3 columns]\n"
          ]
        }
      ]
    },
    {
      "cell_type": "code",
      "source": [
        "datasets = datasets.drop(['FuelType'],axis=1)\n",
        "datasets = pd.concat([dummy,datasets],axis=1)\n",
        "print(\"\\n\\nFinal Data :\\n\",datasets)"
      ],
      "metadata": {
        "id": "Y-DhqnCLAzWI",
        "outputId": "d7f8087a-251c-474b-842b-03dfd62d10a6",
        "colab": {
          "base_uri": "https://localhost:8080/"
        }
      },
      "execution_count": null,
      "outputs": [
        {
          "output_type": "stream",
          "name": "stdout",
          "text": [
            "\n",
            "\n",
            "Final Data :\n",
            "       CNG  Diesel  Petrol  Price  ...  Automatic    CC  Doors  Weight\n",
            "0       0       1       0  13500  ...          0  2000  three    1165\n",
            "1       0       1       0  13750  ...          0  2000      3    1165\n",
            "2       0       1       0  13950  ...          0  2000      3    1165\n",
            "3       0       1       0  14950  ...          0  2000      3    1165\n",
            "4       0       1       0  13750  ...          0  2000      3    1170\n",
            "...   ...     ...     ...    ...  ...        ...   ...    ...     ...\n",
            "1431    0       0       1   7500  ...          0  1300      3    1025\n",
            "1432    0       0       1  10845  ...          0  1300      3    1015\n",
            "1433    0       0       1   8500  ...          0  1300      3    1015\n",
            "1434    0       0       0   7250  ...          0  1300      3    1015\n",
            "1435    0       0       1   6950  ...          0  1600      5    1114\n",
            "\n",
            "[1436 rows x 12 columns]\n"
          ]
        }
      ]
    },
    {
      "cell_type": "code",
      "source": [
        "onehotencoder = OneHotEncoder()\n",
        "x = onehotencoder.fit_transform(datasets.Doors.values.reshape(-1,1)).toarray()\n",
        "print(x)"
      ],
      "metadata": {
        "colab": {
          "base_uri": "https://localhost:8080/"
        },
        "id": "HfebzCypCKhy",
        "outputId": "b520cd89-7058-4896-aab7-c21eb1238a4a"
      },
      "execution_count": 110,
      "outputs": [
        {
          "output_type": "stream",
          "name": "stdout",
          "text": [
            "[[0. 0. 0. ... 0. 0. 1.]\n",
            " [0. 1. 0. ... 0. 0. 0.]\n",
            " [0. 1. 0. ... 0. 0. 0.]\n",
            " ...\n",
            " [0. 1. 0. ... 0. 0. 0.]\n",
            " [0. 1. 0. ... 0. 0. 0.]\n",
            " [0. 0. 0. ... 0. 0. 0.]]\n"
          ]
        }
      ]
    },
    {
      "cell_type": "markdown",
      "source": [
        "**Feature Selection Correlation**"
      ],
      "metadata": {
        "id": "ykghT1QEGtMl"
      }
    },
    {
      "cell_type": "code",
      "source": [
        "data = pd.read_csv('/content/drive/MyDrive/Data/Exercise-CarData.csv') \n",
        "data.head()"
      ],
      "metadata": {
        "colab": {
          "base_uri": "https://localhost:8080/",
          "height": 206
        },
        "id": "PCRhktv_G9rM",
        "outputId": "f98ec209-55ed-4a43-f6ea-4cfce2f2f3b6"
      },
      "execution_count": 115,
      "outputs": [
        {
          "output_type": "execute_result",
          "data": {
            "text/html": [
              "\n",
              "  <div id=\"df-7ff83f54-b2f6-4f2a-a207-007e0f3b476c\">\n",
              "    <div class=\"colab-df-container\">\n",
              "      <div>\n",
              "<style scoped>\n",
              "    .dataframe tbody tr th:only-of-type {\n",
              "        vertical-align: middle;\n",
              "    }\n",
              "\n",
              "    .dataframe tbody tr th {\n",
              "        vertical-align: top;\n",
              "    }\n",
              "\n",
              "    .dataframe thead th {\n",
              "        text-align: right;\n",
              "    }\n",
              "</style>\n",
              "<table border=\"1\" class=\"dataframe\">\n",
              "  <thead>\n",
              "    <tr style=\"text-align: right;\">\n",
              "      <th></th>\n",
              "      <th>Unnamed: 0</th>\n",
              "      <th>Price</th>\n",
              "      <th>Age</th>\n",
              "      <th>KM</th>\n",
              "      <th>FuelType</th>\n",
              "      <th>HP</th>\n",
              "      <th>MetColor</th>\n",
              "      <th>Automatic</th>\n",
              "      <th>CC</th>\n",
              "      <th>Doors</th>\n",
              "      <th>Weight</th>\n",
              "    </tr>\n",
              "  </thead>\n",
              "  <tbody>\n",
              "    <tr>\n",
              "      <th>0</th>\n",
              "      <td>0</td>\n",
              "      <td>13500</td>\n",
              "      <td>23.0</td>\n",
              "      <td>46986</td>\n",
              "      <td>Diesel</td>\n",
              "      <td>90</td>\n",
              "      <td>1.0</td>\n",
              "      <td>0</td>\n",
              "      <td>2000</td>\n",
              "      <td>three</td>\n",
              "      <td>1165</td>\n",
              "    </tr>\n",
              "    <tr>\n",
              "      <th>1</th>\n",
              "      <td>1</td>\n",
              "      <td>13750</td>\n",
              "      <td>23.0</td>\n",
              "      <td>72937</td>\n",
              "      <td>Diesel</td>\n",
              "      <td>90</td>\n",
              "      <td>1.0</td>\n",
              "      <td>0</td>\n",
              "      <td>2000</td>\n",
              "      <td>3</td>\n",
              "      <td>1165</td>\n",
              "    </tr>\n",
              "    <tr>\n",
              "      <th>2</th>\n",
              "      <td>2</td>\n",
              "      <td>13950</td>\n",
              "      <td>24.0</td>\n",
              "      <td>41711</td>\n",
              "      <td>Diesel</td>\n",
              "      <td>90</td>\n",
              "      <td>NaN</td>\n",
              "      <td>0</td>\n",
              "      <td>2000</td>\n",
              "      <td>3</td>\n",
              "      <td>1165</td>\n",
              "    </tr>\n",
              "    <tr>\n",
              "      <th>3</th>\n",
              "      <td>3</td>\n",
              "      <td>14950</td>\n",
              "      <td>26.0</td>\n",
              "      <td>48000</td>\n",
              "      <td>Diesel</td>\n",
              "      <td>90</td>\n",
              "      <td>0.0</td>\n",
              "      <td>0</td>\n",
              "      <td>2000</td>\n",
              "      <td>3</td>\n",
              "      <td>1165</td>\n",
              "    </tr>\n",
              "    <tr>\n",
              "      <th>4</th>\n",
              "      <td>4</td>\n",
              "      <td>13750</td>\n",
              "      <td>30.0</td>\n",
              "      <td>38500</td>\n",
              "      <td>Diesel</td>\n",
              "      <td>90</td>\n",
              "      <td>0.0</td>\n",
              "      <td>0</td>\n",
              "      <td>2000</td>\n",
              "      <td>3</td>\n",
              "      <td>1170</td>\n",
              "    </tr>\n",
              "  </tbody>\n",
              "</table>\n",
              "</div>\n",
              "      <button class=\"colab-df-convert\" onclick=\"convertToInteractive('df-7ff83f54-b2f6-4f2a-a207-007e0f3b476c')\"\n",
              "              title=\"Convert this dataframe to an interactive table.\"\n",
              "              style=\"display:none;\">\n",
              "        \n",
              "  <svg xmlns=\"http://www.w3.org/2000/svg\" height=\"24px\"viewBox=\"0 0 24 24\"\n",
              "       width=\"24px\">\n",
              "    <path d=\"M0 0h24v24H0V0z\" fill=\"none\"/>\n",
              "    <path d=\"M18.56 5.44l.94 2.06.94-2.06 2.06-.94-2.06-.94-.94-2.06-.94 2.06-2.06.94zm-11 1L8.5 8.5l.94-2.06 2.06-.94-2.06-.94L8.5 2.5l-.94 2.06-2.06.94zm10 10l.94 2.06.94-2.06 2.06-.94-2.06-.94-.94-2.06-.94 2.06-2.06.94z\"/><path d=\"M17.41 7.96l-1.37-1.37c-.4-.4-.92-.59-1.43-.59-.52 0-1.04.2-1.43.59L10.3 9.45l-7.72 7.72c-.78.78-.78 2.05 0 2.83L4 21.41c.39.39.9.59 1.41.59.51 0 1.02-.2 1.41-.59l7.78-7.78 2.81-2.81c.8-.78.8-2.07 0-2.86zM5.41 20L4 18.59l7.72-7.72 1.47 1.35L5.41 20z\"/>\n",
              "  </svg>\n",
              "      </button>\n",
              "      \n",
              "  <style>\n",
              "    .colab-df-container {\n",
              "      display:flex;\n",
              "      flex-wrap:wrap;\n",
              "      gap: 12px;\n",
              "    }\n",
              "\n",
              "    .colab-df-convert {\n",
              "      background-color: #E8F0FE;\n",
              "      border: none;\n",
              "      border-radius: 50%;\n",
              "      cursor: pointer;\n",
              "      display: none;\n",
              "      fill: #1967D2;\n",
              "      height: 32px;\n",
              "      padding: 0 0 0 0;\n",
              "      width: 32px;\n",
              "    }\n",
              "\n",
              "    .colab-df-convert:hover {\n",
              "      background-color: #E2EBFA;\n",
              "      box-shadow: 0px 1px 2px rgba(60, 64, 67, 0.3), 0px 1px 3px 1px rgba(60, 64, 67, 0.15);\n",
              "      fill: #174EA6;\n",
              "    }\n",
              "\n",
              "    [theme=dark] .colab-df-convert {\n",
              "      background-color: #3B4455;\n",
              "      fill: #D2E3FC;\n",
              "    }\n",
              "\n",
              "    [theme=dark] .colab-df-convert:hover {\n",
              "      background-color: #434B5C;\n",
              "      box-shadow: 0px 1px 3px 1px rgba(0, 0, 0, 0.15);\n",
              "      filter: drop-shadow(0px 1px 2px rgba(0, 0, 0, 0.3));\n",
              "      fill: #FFFFFF;\n",
              "    }\n",
              "  </style>\n",
              "\n",
              "      <script>\n",
              "        const buttonEl =\n",
              "          document.querySelector('#df-7ff83f54-b2f6-4f2a-a207-007e0f3b476c button.colab-df-convert');\n",
              "        buttonEl.style.display =\n",
              "          google.colab.kernel.accessAllowed ? 'block' : 'none';\n",
              "\n",
              "        async function convertToInteractive(key) {\n",
              "          const element = document.querySelector('#df-7ff83f54-b2f6-4f2a-a207-007e0f3b476c');\n",
              "          const dataTable =\n",
              "            await google.colab.kernel.invokeFunction('convertToInteractive',\n",
              "                                                     [key], {});\n",
              "          if (!dataTable) return;\n",
              "\n",
              "          const docLinkHtml = 'Like what you see? Visit the ' +\n",
              "            '<a target=\"_blank\" href=https://colab.research.google.com/notebooks/data_table.ipynb>data table notebook</a>'\n",
              "            + ' to learn more about interactive tables.';\n",
              "          element.innerHTML = '';\n",
              "          dataTable['output_type'] = 'display_data';\n",
              "          await google.colab.output.renderOutput(dataTable, element);\n",
              "          const docLink = document.createElement('div');\n",
              "          docLink.innerHTML = docLinkHtml;\n",
              "          element.appendChild(docLink);\n",
              "        }\n",
              "      </script>\n",
              "    </div>\n",
              "  </div>\n",
              "  "
            ],
            "text/plain": [
              "   Unnamed: 0  Price   Age     KM  ... Automatic    CC  Doors  Weight\n",
              "0           0  13500  23.0  46986  ...         0  2000  three    1165\n",
              "1           1  13750  23.0  72937  ...         0  2000      3    1165\n",
              "2           2  13950  24.0  41711  ...         0  2000      3    1165\n",
              "3           3  14950  26.0  48000  ...         0  2000      3    1165\n",
              "4           4  13750  30.0  38500  ...         0  2000      3    1170\n",
              "\n",
              "[5 rows x 11 columns]"
            ]
          },
          "metadata": {},
          "execution_count": 115
        }
      ]
    },
    {
      "cell_type": "code",
      "source": [
        "corr = data.corr()\n",
        "corr.head()"
      ],
      "metadata": {
        "colab": {
          "base_uri": "https://localhost:8080/",
          "height": 206
        },
        "id": "omuK87wAHiqE",
        "outputId": "7a640a28-e1b8-4323-f2cf-348874b71dd0"
      },
      "execution_count": 116,
      "outputs": [
        {
          "output_type": "execute_result",
          "data": {
            "text/html": [
              "\n",
              "  <div id=\"df-67f12444-a805-4bc8-94e9-906d0b7991db\">\n",
              "    <div class=\"colab-df-container\">\n",
              "      <div>\n",
              "<style scoped>\n",
              "    .dataframe tbody tr th:only-of-type {\n",
              "        vertical-align: middle;\n",
              "    }\n",
              "\n",
              "    .dataframe tbody tr th {\n",
              "        vertical-align: top;\n",
              "    }\n",
              "\n",
              "    .dataframe thead th {\n",
              "        text-align: right;\n",
              "    }\n",
              "</style>\n",
              "<table border=\"1\" class=\"dataframe\">\n",
              "  <thead>\n",
              "    <tr style=\"text-align: right;\">\n",
              "      <th></th>\n",
              "      <th>Unnamed: 0</th>\n",
              "      <th>Price</th>\n",
              "      <th>Age</th>\n",
              "      <th>MetColor</th>\n",
              "      <th>Automatic</th>\n",
              "      <th>CC</th>\n",
              "      <th>Weight</th>\n",
              "    </tr>\n",
              "  </thead>\n",
              "  <tbody>\n",
              "    <tr>\n",
              "      <th>Unnamed: 0</th>\n",
              "      <td>1.000000</td>\n",
              "      <td>-0.738289</td>\n",
              "      <td>0.907090</td>\n",
              "      <td>-0.078616</td>\n",
              "      <td>0.066299</td>\n",
              "      <td>-0.184490</td>\n",
              "      <td>-0.414577</td>\n",
              "    </tr>\n",
              "    <tr>\n",
              "      <th>Price</th>\n",
              "      <td>-0.738289</td>\n",
              "      <td>1.000000</td>\n",
              "      <td>-0.878407</td>\n",
              "      <td>0.112041</td>\n",
              "      <td>0.033081</td>\n",
              "      <td>0.165067</td>\n",
              "      <td>0.581198</td>\n",
              "    </tr>\n",
              "    <tr>\n",
              "      <th>Age</th>\n",
              "      <td>0.907090</td>\n",
              "      <td>-0.878407</td>\n",
              "      <td>1.000000</td>\n",
              "      <td>-0.099659</td>\n",
              "      <td>0.032573</td>\n",
              "      <td>-0.120706</td>\n",
              "      <td>-0.464299</td>\n",
              "    </tr>\n",
              "    <tr>\n",
              "      <th>MetColor</th>\n",
              "      <td>-0.078616</td>\n",
              "      <td>0.112041</td>\n",
              "      <td>-0.099659</td>\n",
              "      <td>1.000000</td>\n",
              "      <td>-0.013973</td>\n",
              "      <td>0.029189</td>\n",
              "      <td>0.057142</td>\n",
              "    </tr>\n",
              "    <tr>\n",
              "      <th>Automatic</th>\n",
              "      <td>0.066299</td>\n",
              "      <td>0.033081</td>\n",
              "      <td>0.032573</td>\n",
              "      <td>-0.013973</td>\n",
              "      <td>1.000000</td>\n",
              "      <td>-0.069321</td>\n",
              "      <td>0.057249</td>\n",
              "    </tr>\n",
              "  </tbody>\n",
              "</table>\n",
              "</div>\n",
              "      <button class=\"colab-df-convert\" onclick=\"convertToInteractive('df-67f12444-a805-4bc8-94e9-906d0b7991db')\"\n",
              "              title=\"Convert this dataframe to an interactive table.\"\n",
              "              style=\"display:none;\">\n",
              "        \n",
              "  <svg xmlns=\"http://www.w3.org/2000/svg\" height=\"24px\"viewBox=\"0 0 24 24\"\n",
              "       width=\"24px\">\n",
              "    <path d=\"M0 0h24v24H0V0z\" fill=\"none\"/>\n",
              "    <path d=\"M18.56 5.44l.94 2.06.94-2.06 2.06-.94-2.06-.94-.94-2.06-.94 2.06-2.06.94zm-11 1L8.5 8.5l.94-2.06 2.06-.94-2.06-.94L8.5 2.5l-.94 2.06-2.06.94zm10 10l.94 2.06.94-2.06 2.06-.94-2.06-.94-.94-2.06-.94 2.06-2.06.94z\"/><path d=\"M17.41 7.96l-1.37-1.37c-.4-.4-.92-.59-1.43-.59-.52 0-1.04.2-1.43.59L10.3 9.45l-7.72 7.72c-.78.78-.78 2.05 0 2.83L4 21.41c.39.39.9.59 1.41.59.51 0 1.02-.2 1.41-.59l7.78-7.78 2.81-2.81c.8-.78.8-2.07 0-2.86zM5.41 20L4 18.59l7.72-7.72 1.47 1.35L5.41 20z\"/>\n",
              "  </svg>\n",
              "      </button>\n",
              "      \n",
              "  <style>\n",
              "    .colab-df-container {\n",
              "      display:flex;\n",
              "      flex-wrap:wrap;\n",
              "      gap: 12px;\n",
              "    }\n",
              "\n",
              "    .colab-df-convert {\n",
              "      background-color: #E8F0FE;\n",
              "      border: none;\n",
              "      border-radius: 50%;\n",
              "      cursor: pointer;\n",
              "      display: none;\n",
              "      fill: #1967D2;\n",
              "      height: 32px;\n",
              "      padding: 0 0 0 0;\n",
              "      width: 32px;\n",
              "    }\n",
              "\n",
              "    .colab-df-convert:hover {\n",
              "      background-color: #E2EBFA;\n",
              "      box-shadow: 0px 1px 2px rgba(60, 64, 67, 0.3), 0px 1px 3px 1px rgba(60, 64, 67, 0.15);\n",
              "      fill: #174EA6;\n",
              "    }\n",
              "\n",
              "    [theme=dark] .colab-df-convert {\n",
              "      background-color: #3B4455;\n",
              "      fill: #D2E3FC;\n",
              "    }\n",
              "\n",
              "    [theme=dark] .colab-df-convert:hover {\n",
              "      background-color: #434B5C;\n",
              "      box-shadow: 0px 1px 3px 1px rgba(0, 0, 0, 0.15);\n",
              "      filter: drop-shadow(0px 1px 2px rgba(0, 0, 0, 0.3));\n",
              "      fill: #FFFFFF;\n",
              "    }\n",
              "  </style>\n",
              "\n",
              "      <script>\n",
              "        const buttonEl =\n",
              "          document.querySelector('#df-67f12444-a805-4bc8-94e9-906d0b7991db button.colab-df-convert');\n",
              "        buttonEl.style.display =\n",
              "          google.colab.kernel.accessAllowed ? 'block' : 'none';\n",
              "\n",
              "        async function convertToInteractive(key) {\n",
              "          const element = document.querySelector('#df-67f12444-a805-4bc8-94e9-906d0b7991db');\n",
              "          const dataTable =\n",
              "            await google.colab.kernel.invokeFunction('convertToInteractive',\n",
              "                                                     [key], {});\n",
              "          if (!dataTable) return;\n",
              "\n",
              "          const docLinkHtml = 'Like what you see? Visit the ' +\n",
              "            '<a target=\"_blank\" href=https://colab.research.google.com/notebooks/data_table.ipynb>data table notebook</a>'\n",
              "            + ' to learn more about interactive tables.';\n",
              "          element.innerHTML = '';\n",
              "          dataTable['output_type'] = 'display_data';\n",
              "          await google.colab.output.renderOutput(dataTable, element);\n",
              "          const docLink = document.createElement('div');\n",
              "          docLink.innerHTML = docLinkHtml;\n",
              "          element.appendChild(docLink);\n",
              "        }\n",
              "      </script>\n",
              "    </div>\n",
              "  </div>\n",
              "  "
            ],
            "text/plain": [
              "            Unnamed: 0     Price       Age  ...  Automatic        CC    Weight\n",
              "Unnamed: 0    1.000000 -0.738289  0.907090  ...   0.066299 -0.184490 -0.414577\n",
              "Price        -0.738289  1.000000 -0.878407  ...   0.033081  0.165067  0.581198\n",
              "Age           0.907090 -0.878407  1.000000  ...   0.032573 -0.120706 -0.464299\n",
              "MetColor     -0.078616  0.112041 -0.099659  ...  -0.013973  0.029189  0.057142\n",
              "Automatic     0.066299  0.033081  0.032573  ...   1.000000 -0.069321  0.057249\n",
              "\n",
              "[5 rows x 7 columns]"
            ]
          },
          "metadata": {},
          "execution_count": 116
        }
      ]
    },
    {
      "cell_type": "code",
      "source": [
        "sns.heatmap(corr)"
      ],
      "metadata": {
        "colab": {
          "base_uri": "https://localhost:8080/",
          "height": 337
        },
        "id": "455mLrwVHqhz",
        "outputId": "b598a00d-1ca8-4b27-8b46-99c0c498bcc1"
      },
      "execution_count": 117,
      "outputs": [
        {
          "output_type": "execute_result",
          "data": {
            "text/plain": [
              "<matplotlib.axes._subplots.AxesSubplot at 0x7f286442b650>"
            ]
          },
          "metadata": {},
          "execution_count": 117
        },
        {
          "output_type": "display_data",
          "data": {
            "image/png": "[encoded data removed]",
            "text/plain": [
              "<Figure size 432x288 with 2 Axes>"
            ]
          },
          "metadata": {
            "needs_background": "light"
          }
        }
      ]
    },
    {
      "cell_type": "code",
      "source": [
        "columns = np.full((corr.shape[0],), True, dtype=bool)\n",
        "for i in range(corr.shape[0]):\n",
        "    for j in range(i+1, corr.shape[0]):\n",
        "        if corr.iloc[i,j] >= 0.9:\n",
        "            if columns[j]:\n",
        "                columns[j] = False"
      ],
      "metadata": {
        "id": "7nJDqO5JHwo3"
      },
      "execution_count": 118,
      "outputs": []
    },
    {
      "cell_type": "code",
      "source": [
        "selected_columns = data.columns[j+1]\n",
        "print(selected_columns)"
      ],
      "metadata": {
        "colab": {
          "base_uri": "https://localhost:8080/"
        },
        "id": "cHjap0NPH7OW",
        "outputId": "af377cbe-c31b-4659-b6ce-dea7da878bd0"
      },
      "execution_count": 120,
      "outputs": [
        {
          "output_type": "stream",
          "name": "stdout",
          "text": [
            "Automatic\n"
          ]
        }
      ]
    },
    {
      "cell_type": "code",
      "source": [
        "data = data[selected_columns]\n",
        "print(data)"
      ],
      "metadata": {
        "colab": {
          "base_uri": "https://localhost:8080/"
        },
        "id": "Bx30g9cRIHQK",
        "outputId": "1438d239-25e1-4fb2-849d-37cd7d75a806"
      },
      "execution_count": 121,
      "outputs": [
        {
          "output_type": "stream",
          "name": "stdout",
          "text": [
            "0       0\n",
            "1       0\n",
            "2       0\n",
            "3       0\n",
            "4       0\n",
            "       ..\n",
            "1431    0\n",
            "1432    0\n",
            "1433    0\n",
            "1434    0\n",
            "1435    0\n",
            "Name: Automatic, Length: 1436, dtype: int64\n"
          ]
        }
      ]
    }
  ]
}