{
  "nbformat": 4,
  "nbformat_minor": 0,
  "metadata": {
    "colab": {
      "name": "CE072_ParthMakwana_Lab03.ipynb",
      "provenance": [],
      "collapsed_sections": []
    },
    "kernelspec": {
      "name": "python3",
      "display_name": "Python 3"
    },
    "language_info": {
      "name": "python"
    }
  },
  "cells": [
    {
      "cell_type": "markdown",
      "source": [
        "**LAB03**"
      ],
      "metadata": {
        "id": "C3bwWt1lct8g"
      }
    },
    {
      "cell_type": "markdown",
      "source": [
        "**NB Classifier Weather**"
      ],
      "metadata": {
        "id": "PdTva1OOdZKK"
      }
    },
    {
      "cell_type": "code",
      "source": [
        "from sklearn import preprocessing\n",
        "from sklearn.naive_bayes import GaussianNB, MultinomialNB"
      ],
      "metadata": {
        "id": "wlRRrCaAdc3P"
      },
      "execution_count": null,
      "outputs": []
    },
    {
      "cell_type": "code",
      "source": [
        "import numpy as np \n",
        "import pandas as pd\n",
        "# from google.colab import drive \n",
        "# drive.mount('/content/drive')\n",
        "\n",
        "datasets = pd.read_csv(\"/content/drive/MyDrive/Data/Dataset1.csv\") \n",
        "Humidity=datasets['Humidity']\n",
        "Outlook=datasets['Outlook']\n",
        "Play=datasets['Play']\n",
        "Temp=datasets['Temp']\n",
        "Wind=datasets['Wind']\n",
        "\n",
        "le = preprocessing.LabelEncoder()\n",
        "Humidity_encoded=le.fit_transform(Humidity)\n",
        "print(\"Humidity:\" ,Humidity_encoded)\n",
        "\n",
        "Outlook_encoded=le.fit_transform(Outlook)\n",
        "print(\"Outlook:\" ,Outlook_encoded)\n",
        "\n",
        "Play_encoded=le.fit_transform(Play)\n",
        "print(\"Play:\" ,Play_encoded)\n",
        "\n",
        "Temp_encoded=le.fit_transform(Temp)\n",
        "print(\"Temp:\" ,Temp_encoded)\n",
        "\n",
        "Wind_encoded=le.fit_transform(Wind)\n",
        "print(\"Wind:\" ,Wind_encoded)"
      ],
      "metadata": {
        "colab": {
          "base_uri": "https://localhost:8080/"
        },
        "id": "Foawy6T6d8oK",
        "outputId": "fd637daf-13f4-4763-bb6b-39dca0bd3bbf"
      },
      "execution_count": null,
      "outputs": [
        {
          "output_type": "stream",
          "name": "stdout",
          "text": [
            "Humidity: [2 0 2 2 2 1 2 2 1 0 0 1 2 2]\n",
            "Outlook: [1 1 0 2 2 2 0 1 1 2 1 0 0 2]\n",
            "Play: [0 0 1 1 1 0 1 0 1 1 1 1 1 0]\n",
            "Temp: [1 1 1 2 0 0 0 2 0 2 2 2 1 2]\n",
            "Wind: [0 1 0 0 0 1 1 0 0 0 1 1 0 1]\n"
          ]
        }
      ]
    },
    {
      "cell_type": "code",
      "source": [
        "features=tuple(zip(Humidity_encoded,Outlook_encoded,Temp_encoded,Wind_encoded))\n",
        "print(\"Features:\",features)"
      ],
      "metadata": {
        "colab": {
          "base_uri": "https://localhost:8080/"
        },
        "id": "oQ83kO1kfHIU",
        "outputId": "1174e1b9-afa9-4088-9ced-a930ca0215c4"
      },
      "execution_count": null,
      "outputs": [
        {
          "output_type": "stream",
          "name": "stdout",
          "text": [
            "Features: ((2, 1, 1, 0), (0, 1, 1, 1), (2, 0, 1, 0), (2, 2, 2, 0), (2, 2, 0, 0), (1, 2, 0, 1), (2, 0, 0, 1), (2, 1, 2, 0), (1, 1, 0, 0), (0, 2, 2, 0), (0, 1, 2, 1), (1, 0, 2, 1), (2, 0, 1, 0), (2, 2, 2, 1))\n"
          ]
        }
      ]
    },
    {
      "cell_type": "code",
      "source": [
        "model=MultinomialNB()\n",
        "model.fit(features,Play)"
      ],
      "metadata": {
        "colab": {
          "base_uri": "https://localhost:8080/"
        },
        "id": "cdNx52PjflY3",
        "outputId": "657eac6c-b18f-4d5c-b2a8-e390bd9419c5"
      },
      "execution_count": null,
      "outputs": [
        {
          "output_type": "execute_result",
          "data": {
            "text/plain": [
              "MultinomialNB()"
            ]
          },
          "metadata": {},
          "execution_count": 13
        }
      ]
    },
    {
      "cell_type": "code",
      "source": [
        "predicted= model.predict([[2,2,2,0]])#[[HUMIDITY=2,OUTLOOK=2,TEMP=2,WIND=0]] \n",
        "print(\"Predicted Value:\", predicted)"
      ],
      "metadata": {
        "colab": {
          "base_uri": "https://localhost:8080/"
        },
        "id": "3sAktqFof1gB",
        "outputId": "5f261a02-f04d-4a6a-8186-d8dc57e15ebe"
      },
      "execution_count": null,
      "outputs": [
        {
          "output_type": "stream",
          "name": "stdout",
          "text": [
            "Predicted Value: ['Y']\n"
          ]
        }
      ]
    },
    {
      "cell_type": "code",
      "source": [
        "predicted1= model.predict([[0,2,0,1]])#[[HUMIDITY=0,OUTLOOK=2,TEMP=0,WIND=1]]\n",
        "print(\"Predicted Value:\", predicted1)"
      ],
      "metadata": {
        "colab": {
          "base_uri": "https://localhost:8080/"
        },
        "id": "YEGrdvhGgnJQ",
        "outputId": "4829fa4a-41c1-402d-90aa-0092d3eb5eec"
      },
      "execution_count": null,
      "outputs": [
        {
          "output_type": "stream",
          "name": "stdout",
          "text": [
            "Predicted Value: ['N']\n"
          ]
        }
      ]
    },
    {
      "cell_type": "markdown",
      "source": [
        "**NB Classifier Iris 2Classes**"
      ],
      "metadata": {
        "id": "TdiTh61Shi43"
      }
    },
    {
      "cell_type": "code",
      "source": [
        "from sklearn import datasets\n",
        "from sklearn.naive_bayes import GaussianNB\n",
        "\n",
        "iris = datasets.load_iris()"
      ],
      "metadata": {
        "id": "kKH_yqesTSza"
      },
      "execution_count": null,
      "outputs": []
    },
    {
      "cell_type": "code",
      "source": [
        "print(\"Features: \", iris.feature_names)\n",
        "print(\"Label: \", iris.target_names)\n",
        "print(\"\\nData shape: \", iris.data.shape)\n",
        "print(\"\\nTarget shape: \", iris.target.shape)\n",
        "print(\"\\nData type: \", type(iris.data))\n",
        "newdata = iris.data[50:,:]\n",
        "newtarget = iris.target[50:]\n",
        "\n",
        "print(\"\\nNew Data shape: \", newdata.shape)\n",
        "print(\"\\nNew Target shape: \", newtarget.shape)"
      ],
      "metadata": {
        "colab": {
          "base_uri": "https://localhost:8080/"
        },
        "id": "lgEcrdZ8UAiW",
        "outputId": "d4e9cecd-9fa1-481b-b346-8d8251f25504"
      },
      "execution_count": null,
      "outputs": [
        {
          "output_type": "stream",
          "name": "stdout",
          "text": [
            "Features:  ['sepal length (cm)', 'sepal width (cm)', 'petal length (cm)', 'petal width (cm)']\n",
            "Label:  ['setosa' 'versicolor' 'virginica']\n",
            "\n",
            "Data shape:  (150, 4)\n",
            "\n",
            "Target shape:  (150,)\n",
            "\n",
            "Data type:  <class 'numpy.ndarray'>\n",
            "\n",
            "New Data shape:  (100, 4)\n",
            "\n",
            "New Target shape:  (100,)\n"
          ]
        }
      ]
    },
    {
      "cell_type": "code",
      "source": [
        "from sklearn.model_selection import train_test_split\n",
        "\n",
        "data_train, data_test, target_train, target_test = train_test_split(newdata, newtarget, test_size = 0.30, random_state = 5)"
      ],
      "metadata": {
        "id": "YcC5BJjeUQum"
      },
      "execution_count": null,
      "outputs": []
    },
    {
      "cell_type": "code",
      "source": [
        "gnb = GaussianNB()\n",
        "gnb.fit(data_train, target_train)\n",
        "target_pred = gnb.predict(data_test)"
      ],
      "metadata": {
        "id": "5rw21D2dW3n9"
      },
      "execution_count": null,
      "outputs": []
    },
    {
      "cell_type": "code",
      "source": [
        "from sklearn import metrics\n",
        "\n",
        "print(\"Accuracy:\",metrics.accuracy_score(target_test, target_pred))"
      ],
      "metadata": {
        "colab": {
          "base_uri": "https://localhost:8080/"
        },
        "id": "oVvKg0aAYCYQ",
        "outputId": "5ac97927-d9a2-4719-86db-a8e5c3607627"
      },
      "execution_count": null,
      "outputs": [
        {
          "output_type": "stream",
          "name": "stdout",
          "text": [
            "Accuracy: 0.9\n"
          ]
        }
      ]
    },
    {
      "cell_type": "code",
      "source": [
        "from sklearn.metrics import confusion_matrix\n",
        "confusion_matrix(target_test, target_pred)"
      ],
      "metadata": {
        "colab": {
          "base_uri": "https://localhost:8080/"
        },
        "id": "cfmtxsvoYJM6",
        "outputId": "ba8f58d1-8527-40cc-9894-46676d00c2f6"
      },
      "execution_count": null,
      "outputs": [
        {
          "output_type": "execute_result",
          "data": {
            "text/plain": [
              "array([[16,  1],\n",
              "       [ 2, 11]])"
            ]
          },
          "metadata": {},
          "execution_count": 8
        }
      ]
    },
    {
      "cell_type": "code",
      "source": [
        "from sklearn.metrics import precision_score\n",
        "from sklearn.metrics import recall_score\n",
        "\n",
        "precision = precision_score(target_test, target_pred, average=None)\n",
        "recall = recall_score(target_test, target_pred, average=None)\n",
        "\n",
        "print('precision:{}'.format(precision))\n",
        "print('recall:{}'.format(recall))"
      ],
      "metadata": {
        "colab": {
          "base_uri": "https://localhost:8080/"
        },
        "id": "pzMUrTiGYjSo",
        "outputId": "371cbab7-e56d-4a37-df78-9c65f772ea96"
      },
      "execution_count": null,
      "outputs": [
        {
          "output_type": "stream",
          "name": "stdout",
          "text": [
            "precision:[0.88888889 0.91666667]\n",
            "recall:[0.94117647 0.84615385]\n"
          ]
        }
      ]
    },
    {
      "cell_type": "markdown",
      "source": [
        "**Exercise**"
      ],
      "metadata": {
        "id": "idb3upGlkJ3t"
      }
    },
    {
      "cell_type": "code",
      "source": [
        "import numpy as np \n",
        "import pandas as pd\n",
        "from sklearn.preprocessing import LabelEncoder,OneHotEncoder\n",
        "# from google.colab import drive \n",
        "# drive.mount('/content/drive')\n",
        "\n",
        "datasets = pd.read_csv(\"/content/drive/MyDrive/Data/Dataset2.csv\") \n",
        "print(datasets)\n",
        "print(\"\\n\",datasets.describe())"
      ],
      "metadata": {
        "colab": {
          "base_uri": "https://localhost:8080/"
        },
        "id": "9-MILgD_kONB",
        "outputId": "d30e0814-8375-4cd6-8a03-653ce4bdd759"
      },
      "execution_count": null,
      "outputs": [
        {
          "output_type": "stream",
          "name": "stdout",
          "text": [
            "   Outlook Temp Wind Humidity Class\n",
            "0        R    H    F   Normal     N\n",
            "1        R    H    T     High     N\n",
            "2        O    H    F   Normal     Y\n",
            "3        S    M    F   Normal     N\n",
            "4        S    M    F   Normal     Y\n",
            "5        S    M    T      Low     Y\n",
            "6        O    C    T   Normal     Y\n",
            "7        R    C    F   Normal     Y\n",
            "8        R    C    F      Low     Y\n",
            "9        S    M    F     High     Y\n",
            "10       R    M    T     High     Y\n",
            "11       O    M    T      Low     Y\n",
            "12       O    H    F   Normal     Y\n",
            "13       S    M    T   Normal     N\n",
            "\n",
            "        Outlook Temp Wind Humidity Class\n",
            "count       14   14   14       14    14\n",
            "unique       3    3    2        3     2\n",
            "top          R    M    F   Normal     Y\n",
            "freq         5    7    8        8    10\n"
          ]
        }
      ]
    },
    {
      "cell_type": "code",
      "source": [
        "features = datasets.iloc[:,:-1]\n",
        "play = datasets.iloc[:,-1].values"
      ],
      "metadata": {
        "id": "20vfnMKHlUkw"
      },
      "execution_count": null,
      "outputs": []
    },
    {
      "cell_type": "code",
      "source": [
        "oneHotEncoder = OneHotEncoder()\n",
        "x = oneHotEncoder.fit_transform(features.Outlook.values.reshape(-1,1)).toarray()\n",
        "x"
      ],
      "metadata": {
        "colab": {
          "base_uri": "https://localhost:8080/"
        },
        "id": "JIiNvrpqlWG-",
        "outputId": "b86a4a03-e593-450d-d8ae-ef8b7107333e"
      },
      "execution_count": null,
      "outputs": [
        {
          "output_type": "execute_result",
          "data": {
            "text/plain": [
              "array([[0., 1., 0.],\n",
              "       [0., 1., 0.],\n",
              "       [1., 0., 0.],\n",
              "       [0., 0., 1.],\n",
              "       [0., 0., 1.],\n",
              "       [0., 0., 1.],\n",
              "       [1., 0., 0.],\n",
              "       [0., 1., 0.],\n",
              "       [0., 1., 0.],\n",
              "       [0., 0., 1.],\n",
              "       [0., 1., 0.],\n",
              "       [1., 0., 0.],\n",
              "       [1., 0., 0.],\n",
              "       [0., 0., 1.]])"
            ]
          },
          "metadata": {},
          "execution_count": 9
        }
      ]
    },
    {
      "cell_type": "code",
      "source": [
        "dfOneHot = pd.DataFrame(x, columns = features.Outlook.unique().tolist()) \n",
        "df = pd.concat([features, dfOneHot], axis=1) \n",
        "df= df.drop(['Outlook'], axis=1) \n",
        "print(df.head())"
      ],
      "metadata": {
        "colab": {
          "base_uri": "https://localhost:8080/"
        },
        "id": "rP8Qei-3lZeu",
        "outputId": "3dea2f93-a6c0-42eb-fe88-a31504a9cf01"
      },
      "execution_count": null,
      "outputs": [
        {
          "output_type": "stream",
          "name": "stdout",
          "text": [
            "  Temp Wind Humidity    R    O    S\n",
            "0    H    F   Normal  0.0  1.0  0.0\n",
            "1    H    T     High  0.0  1.0  0.0\n",
            "2    H    F   Normal  1.0  0.0  0.0\n",
            "3    M    F   Normal  0.0  0.0  1.0\n",
            "4    M    F   Normal  0.0  0.0  1.0\n"
          ]
        }
      ]
    }
  ]
}