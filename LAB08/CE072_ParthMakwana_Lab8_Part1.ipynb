{
  "nbformat": 4,
  "nbformat_minor": 0,
  "metadata": {
    "colab": {
      "name": "CE072_ParthMakwana_Lab8_Part1.ipynb",
      "provenance": []
    },
    "kernelspec": {
      "name": "python3",
      "display_name": "Python 3"
    },
    "language_info": {
      "name": "python"
    }
  },
  "cells": [
    {
      "cell_type": "code",
      "source": [
        "import pandas as pd\n",
        "from sklearn.feature_extraction.text import CountVectorizer\n",
        "from sklearn.preprocessing import LabelEncoder\n",
        "from sklearn import preprocessing\n",
        "import numpy as np\n",
        "from sklearn.metrics import accuracy_score, precision_score, recall_score"
      ],
      "metadata": {
        "id": "C2IPFyAzG0Fv"
      },
      "execution_count": 23,
      "outputs": []
    },
    {
      "cell_type": "code",
      "source": [
        "stopwords = [\"a\", \"about\", \"above\", \"after\", \"again\", \"against\", \"all\", \"am\",\n",
        "\"an\", \"and\", \"any\", \"are\", \"as\", \"at\", \"be\", \"because\", \"been\", \"before\",\n",
        "\"being\", \"below\", \"between\", \"both\", \"but\", \"by\", \"could\", \"did\", \"do\",\n",
        "\"does\", \"doing\", \"down\", \"during\", \"each\", \"few\", \"for\", \"from\", \"further\",\n",
        "\"had\", \"has\", \"have\", \"having\", \"he\", \"he'd\", \"he'll\", \"he's\", \"her\", \"here\",\n",
        "\"here's\", \"hers\", \"herself\", \"him\", \"himself\", \"his\", \"how\", \"how's\", \"i\",\n",
        "\"i'd\", \"i'll\", \"i'm\", \"i've\", \"if\", \"in\", \"into\", \"is\", \"it\", \"it's\", \"its\",\n",
        "\"itself\", \"let's\", \"me\", \"more\", \"most\", \"my\", \"myself\", \"nor\", \"of\", \"on\",\n",
        "\"once\", \"only\", \"or\", \"other\", \"ought\", \"our\", \"ours\", \"ourselves\", \"out\",\n",
        "\"over\", \"own\", \"same\", \"she\", \"she'd\", \"she'll\", \"she's\", \"should\", \"so\",\n",
        "\"some\", \"such\", \"than\", \"that\", \"that's\", \"the\", \"their\", \"theirs\", \"them\",\n",
        "\"themselves\", \"then\", \"there\", \"there's\", \"these\", \"they\", \"they'd\",\n",
        "\"they'll\", \"they're\", \"they've\", \"this\", \"those\", \"through\", \"to\", \"too\",\n",
        "\"under\", \"until\", \"up\", \"very\", \"was\", \"we\", \"we'd\", \"we'll\", \"we're\",\n",
        "\"we've\", \"were\", \"what\", \"what's\", \"when\", \"when's\", \"where\", \"where's\",\n",
        "\"which\", \"while\", \"who\", \"who's\", \"whom\", \"why\", \"why's\", \"with\", \"would\",\n",
        "\"you\", \"you'd\", \"you'll\", \"you're\", \"you've\", \"your\", \"yours\", \"yourself\",\n",
        "\"yourselves\"]"
      ],
      "metadata": {
        "id": "-kyTJduIG-5u"
      },
      "execution_count": 4,
      "outputs": []
    },
    {
      "cell_type": "code",
      "source": [
        "from google.colab import drive\n",
        "drive.mount('/content/drive/')"
      ],
      "metadata": {
        "colab": {
          "base_uri": "https://localhost:8080/"
        },
        "id": "s8zxskskHHNy",
        "outputId": "16b8365d-8ee4-446c-abe7-df0ac718c8ba"
      },
      "execution_count": 5,
      "outputs": [
        {
          "output_type": "stream",
          "name": "stdout",
          "text": [
            "Mounted at /content/drive/\n"
          ]
        }
      ]
    },
    {
      "cell_type": "code",
      "source": [
        "datasets = pd.read_csv('/content/drive/MyDrive/Data/SPAM1.csv') \n",
        "datasets[\"v1\"]=np.where(datasets[\"v1\"]=='spam',1,0)\n",
        "print(\"\\nData :\\n\",datasets.head(20))"
      ],
      "metadata": {
        "colab": {
          "base_uri": "https://localhost:8080/"
        },
        "id": "zemZBLMXHl7p",
        "outputId": "20db7e13-b87a-4384-927e-594f234b692f"
      },
      "execution_count": 19,
      "outputs": [
        {
          "output_type": "stream",
          "name": "stdout",
          "text": [
            "\n",
            "Data :\n",
            "     v1                                                 v2\n",
            "0    1  Free entry in 2 a wkly comp to win FA Cup fina...\n",
            "1    1  FreeMsg Hey there darling it's been 3 week's n...\n",
            "2    1  WINNER!! As a valued network customer you have...\n",
            "3    1  Had your mobile 11 months or more? U R entitle...\n",
            "4    1  SIX chances to win CASH! From 100 to 20,000 po...\n",
            "5    1  URGENT! You have won a 1 week FREE membership ...\n",
            "6    1  XXXMobileMovieClub: To use your credit, click ...\n",
            "7    1  England v Macedonia - dont miss the goals/team...\n",
            "8    1  Thanks for your subscription to Ringtone UK yo...\n",
            "9    1  07732584351 - Rodger Burns - MSG = We tried to...\n",
            "10   1  SMS. ac Sptv: The New Jersey Devils and the De...\n",
            "11   1  Congrats! 1 year special cinema pass for 2 is ...\n",
            "12   1  As a valued customer, I am pleased to advise y...\n",
            "13   1  Urgent UR awarded a complimentary trip to Euro...\n",
            "14   1  Did you hear about the new \\Divorce Barbie\\\"? ...\n",
            "15   1  Please call our customer service representativ...\n",
            "16   1  Your free ringtone is waiting to be collected....\n",
            "17   1  GENT! We are trying to contact you. Last weeke...\n",
            "18   1  You are a winner U have been specially selecte...\n",
            "19   1  PRIVATE! Your 2004 Account Statement for 07742...\n"
          ]
        }
      ]
    },
    {
      "cell_type": "code",
      "source": [
        "from sklearn.model_selection import train_test_split\n",
        "X_train, X_test, y_train, y_test = train_test_split(datasets[\"v2\"], datasets[\"v1\"],random_state=72)\n",
        "X_test.shape"
      ],
      "metadata": {
        "colab": {
          "base_uri": "https://localhost:8080/"
        },
        "id": "eZQnG9QgIJEY",
        "outputId": "6f8c9bfd-e82a-41f8-852d-1d01ef70bec6"
      },
      "execution_count": 14,
      "outputs": [
        {
          "output_type": "execute_result",
          "data": {
            "text/plain": [
              "(129,)"
            ]
          },
          "metadata": {},
          "execution_count": 14
        }
      ]
    },
    {
      "cell_type": "markdown",
      "source": [
        "**CountVectorizer**"
      ],
      "metadata": {
        "id": "kDv2M5YDIrxU"
      }
    },
    {
      "cell_type": "markdown",
      "source": [
        "**Perform Count Vectorization on training data**"
      ],
      "metadata": {
        "id": "__lfo6C_JGAS"
      }
    },
    {
      "cell_type": "code",
      "source": [
        "vectorizer = CountVectorizer(ngram_range = (1, 1),stop_words=stopwords)\n",
        "vectorizer.fit(X_train)\n",
        "X_train_vectorized = vectorizer.fit_transform(X_train)\n",
        "print(X_train_vectorized.toarray())"
      ],
      "metadata": {
        "colab": {
          "base_uri": "https://localhost:8080/"
        },
        "id": "mO1MH-wYIRXy",
        "outputId": "395bea03-db38-4966-8abd-767aa42db184"
      },
      "execution_count": 15,
      "outputs": [
        {
          "output_type": "stream",
          "name": "stdout",
          "text": [
            "[[0 0 0 ... 0 0 0]\n",
            " [0 0 0 ... 0 0 0]\n",
            " [0 0 0 ... 0 0 0]\n",
            " ...\n",
            " [0 0 0 ... 0 0 0]\n",
            " [0 0 0 ... 0 0 0]\n",
            " [0 0 0 ... 0 0 0]]\n"
          ]
        },
        {
          "output_type": "stream",
          "name": "stderr",
          "text": [
            "/usr/local/lib/python3.7/dist-packages/sklearn/feature_extraction/text.py:401: UserWarning: Your stop_words may be inconsistent with your preprocessing. Tokenizing the stop words generated tokens ['let', 'll', 're', 've'] not in stop_words.\n",
            "  % sorted(inconsistent)\n"
          ]
        }
      ]
    },
    {
      "cell_type": "markdown",
      "source": [
        "**Apply the Naive Bayes on Vectorized data.**"
      ],
      "metadata": {
        "id": "XVsl1UN-K4vq"
      }
    },
    {
      "cell_type": "code",
      "source": [
        "from sklearn.naive_bayes import MultinomialNB\n",
        "nb=MultinomialNB()\n",
        "nb.fit(X_train_vectorized,y_train)"
      ],
      "metadata": {
        "colab": {
          "base_uri": "https://localhost:8080/"
        },
        "id": "sRQDNvfiJvj1",
        "outputId": "a1999676-22d3-43e1-bd7e-749f552f3751"
      },
      "execution_count": 25,
      "outputs": [
        {
          "output_type": "execute_result",
          "data": {
            "text/plain": [
              "MultinomialNB()"
            ]
          },
          "metadata": {},
          "execution_count": 25
        }
      ]
    },
    {
      "cell_type": "code",
      "source": [
        "predictions = nb.predict(vectorizer.transform(X_test))\n",
        "print(\"Accuracy: \", accuracy_score(y_test, predictions))\n",
        "print(\"Precision: \", precision_score(y_test, predictions))\n",
        "print(\"Recall: \", recall_score(y_test, predictions))"
      ],
      "metadata": {
        "colab": {
          "base_uri": "https://localhost:8080/"
        },
        "id": "S88dFk3XJ5fh",
        "outputId": "dcf4c21b-db3c-4322-eb3d-efceb8d310bd"
      },
      "execution_count": 26,
      "outputs": [
        {
          "output_type": "stream",
          "name": "stdout",
          "text": [
            "Accuracy:  0.9689922480620154\n",
            "Precision:  0.9555555555555556\n",
            "Recall:  0.9555555555555556\n"
          ]
        }
      ]
    },
    {
      "cell_type": "markdown",
      "source": [
        "**Apply the Decision Tree Classifier on Vectorized data.**"
      ],
      "metadata": {
        "id": "OceRdAtfLDdv"
      }
    },
    {
      "cell_type": "code",
      "source": [
        "from sklearn.tree import DecisionTreeClassifier\n",
        "dtcf = DecisionTreeClassifier()\n",
        "dtcf.fit(X_train_vectorized, y_train)"
      ],
      "metadata": {
        "colab": {
          "base_uri": "https://localhost:8080/"
        },
        "id": "bMCpDwwYKnqv",
        "outputId": "e493005b-2c8d-4f7b-c1f2-f5a59406720a"
      },
      "execution_count": 27,
      "outputs": [
        {
          "output_type": "execute_result",
          "data": {
            "text/plain": [
              "DecisionTreeClassifier()"
            ]
          },
          "metadata": {},
          "execution_count": 27
        }
      ]
    },
    {
      "cell_type": "code",
      "source": [
        "predictions = dtcf.predict(vectorizer.transform(X_test))\n",
        "print(\"Accuracy: \", accuracy_score(y_test, predictions))\n",
        "print(\"Precision: \", precision_score(y_test, predictions))\n",
        "print(\"Recall: \", recall_score(y_test, predictions))"
      ],
      "metadata": {
        "colab": {
          "base_uri": "https://localhost:8080/"
        },
        "id": "CmBbu2VdPRhb",
        "outputId": "abb34fd0-f5ca-4e09-b58f-d916344d2e76"
      },
      "execution_count": 42,
      "outputs": [
        {
          "output_type": "stream",
          "name": "stdout",
          "text": [
            "Accuracy:  0.8992248062015504\n",
            "Precision:  0.9210526315789473\n",
            "Recall:  0.7777777777777778\n"
          ]
        }
      ]
    },
    {
      "cell_type": "markdown",
      "source": [
        "**TFIDF Vectorizer**"
      ],
      "metadata": {
        "id": "l5x6fEsWPvrM"
      }
    },
    {
      "cell_type": "markdown",
      "source": [
        "**Perform IFIDF Vectorization on training data.**"
      ],
      "metadata": {
        "id": "HQyX2zrePzsN"
      }
    },
    {
      "cell_type": "code",
      "source": [
        "from sklearn.feature_extraction.text import TfidfVectorizer\n",
        "\n",
        "vectorizer = TfidfVectorizer(ngram_range = (1, 1),stop_words = stopwords)\n",
        "vectorizer.fit(X_train)\n",
        "X_train_tfidf_vectorized = vectorizer.transform(X_train)\n",
        "print(X_train_tfidf_vectorized.toarray())"
      ],
      "metadata": {
        "colab": {
          "base_uri": "https://localhost:8080/"
        },
        "id": "catTSZsrPocu",
        "outputId": "a4c01bb4-2544-4248-883d-c3fe225ec451"
      },
      "execution_count": 30,
      "outputs": [
        {
          "output_type": "stream",
          "name": "stdout",
          "text": [
            "[[0. 0. 0. ... 0. 0. 0.]\n",
            " [0. 0. 0. ... 0. 0. 0.]\n",
            " [0. 0. 0. ... 0. 0. 0.]\n",
            " ...\n",
            " [0. 0. 0. ... 0. 0. 0.]\n",
            " [0. 0. 0. ... 0. 0. 0.]\n",
            " [0. 0. 0. ... 0. 0. 0.]]\n"
          ]
        },
        {
          "output_type": "stream",
          "name": "stderr",
          "text": [
            "/usr/local/lib/python3.7/dist-packages/sklearn/feature_extraction/text.py:401: UserWarning: Your stop_words may be inconsistent with your preprocessing. Tokenizing the stop words generated tokens ['let', 'll', 're', 've'] not in stop_words.\n",
            "  % sorted(inconsistent)\n"
          ]
        }
      ]
    },
    {
      "cell_type": "markdown",
      "source": [
        "**Apply the Naive Bayes on IFIDF Vectorized data.**"
      ],
      "metadata": {
        "id": "V12ImG2AQTKL"
      }
    },
    {
      "cell_type": "code",
      "source": [
        "nb = MultinomialNB()\n",
        "nb.fit(X_train_tfidf_vectorized, y_train)"
      ],
      "metadata": {
        "colab": {
          "base_uri": "https://localhost:8080/"
        },
        "id": "eLj_cFfaQQgV",
        "outputId": "13dfe1d8-b429-4ae9-f46f-81ac223d8f4a"
      },
      "execution_count": 31,
      "outputs": [
        {
          "output_type": "execute_result",
          "data": {
            "text/plain": [
              "MultinomialNB()"
            ]
          },
          "metadata": {},
          "execution_count": 31
        }
      ]
    },
    {
      "cell_type": "code",
      "source": [
        "predictions = nb.predict(vectorizer.transform(X_test))\n",
        "print(\"Accuracy: \", accuracy_score(y_test, predictions))\n",
        "print(\"Precision: \", precision_score(y_test, predictions))\n",
        "print(\"Recall: \", recall_score(y_test, predictions))"
      ],
      "metadata": {
        "colab": {
          "base_uri": "https://localhost:8080/"
        },
        "id": "VsqucueAQabc",
        "outputId": "773bb68e-acdf-413c-9a84-4511c7e192d6"
      },
      "execution_count": 37,
      "outputs": [
        {
          "output_type": "stream",
          "name": "stdout",
          "text": [
            "Accuracy:  0.9224806201550387\n",
            "Precision:  1.0\n",
            "Recall:  0.7777777777777778\n"
          ]
        }
      ]
    },
    {
      "cell_type": "markdown",
      "source": [
        "**Apply the Decision Tree Classifier on IFIDF Vectorized data.**"
      ],
      "metadata": {
        "id": "Atjz3JVsQmwd"
      }
    },
    {
      "cell_type": "code",
      "source": [
        "dtcf = DecisionTreeClassifier()\n",
        "dtcf.fit(X_train_tfidf_vectorized, y_train)"
      ],
      "metadata": {
        "colab": {
          "base_uri": "https://localhost:8080/"
        },
        "id": "rFiUgQ7dQioV",
        "outputId": "d6f1790e-516c-4db6-ba00-1ef3bc0998b5"
      },
      "execution_count": 38,
      "outputs": [
        {
          "output_type": "execute_result",
          "data": {
            "text/plain": [
              "DecisionTreeClassifier()"
            ]
          },
          "metadata": {},
          "execution_count": 38
        }
      ]
    },
    {
      "cell_type": "code",
      "source": [
        "predictions = dtcf.predict(vectorizer.transform(X_test))\n",
        "\n",
        "print(\"Accuracy: \", accuracy_score(y_test, predictions))\n",
        "print(\"Precision: \", precision_score(y_test, predictions))\n",
        "print(\"Recall: \", recall_score(y_test, predictions))"
      ],
      "metadata": {
        "colab": {
          "base_uri": "https://localhost:8080/"
        },
        "id": "2c534iRSR0ch",
        "outputId": "b3eb4a7d-9572-4dd0-8cb0-ab709cf56fc0"
      },
      "execution_count": 41,
      "outputs": [
        {
          "output_type": "stream",
          "name": "stdout",
          "text": [
            "Accuracy:  0.8992248062015504\n",
            "Precision:  0.9210526315789473\n",
            "Recall:  0.7777777777777778\n"
          ]
        }
      ]
    }
  ]
}