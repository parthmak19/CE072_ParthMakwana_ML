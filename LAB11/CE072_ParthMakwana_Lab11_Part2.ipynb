{
  "nbformat": 4,
  "nbformat_minor": 0,
  "metadata": {
    "colab": {
      "name": "CE072_ParthMakwana_Lab11_Part2.ipynb",
      "provenance": [],
      "collapsed_sections": []
    },
    "kernelspec": {
      "name": "python3",
      "display_name": "Python 3"
    },
    "language_info": {
      "name": "python"
    }
  },
  "cells": [
    {
      "cell_type": "markdown",
      "source": [
        "**Try SVM classifier on MNIST dataset, compare the performance of linear, polynomial and RBF kernels.**"
      ],
      "metadata": {
        "id": "RaWOP9UUHsO2"
      }
    },
    {
      "cell_type": "code",
      "source": [
        "import sys, os\n",
        "import matplotlib.pyplot as plt\n",
        "from sklearn import svm\n",
        "from sklearn.svm import SVC\n",
        "from sklearn.model_selection import train_test_split\n",
        "import numpy as np\n",
        "from sklearn.metrics import accuracy_score"
      ],
      "metadata": {
        "id": "-_H9cwa3xfuv"
      },
      "execution_count": 11,
      "outputs": []
    },
    {
      "cell_type": "code",
      "source": [
        "from tensorflow.keras.datasets import mnist\n",
        "(features_train, targets_train), (features_test, targets_test) = mnist.load_data()\n",
        "features_train, features_test = features_train.reshape([-1, 784]), features_test.reshape([-1, 784])\n",
        "features_train, features_test = features_train / 255., features_test / 255.\n",
        "print(features_train.shape)\n",
        "print(features_test.shape)\n",
        "print(targets_train.shape)\n",
        "print(targets_test.shape)"
      ],
      "metadata": {
        "colab": {
          "base_uri": "https://localhost:8080/"
        },
        "id": "Bj7JuSoRIWhH",
        "outputId": "93498e03-cb44-4550-9666-ddd1c45e1b21"
      },
      "execution_count": 18,
      "outputs": [
        {
          "output_type": "stream",
          "name": "stdout",
          "text": [
            "(60000, 784)\n",
            "(10000, 784)\n",
            "(60000,)\n",
            "(10000,)\n"
          ]
        }
      ]
    },
    {
      "cell_type": "markdown",
      "source": [
        "**Linear Kernel**"
      ],
      "metadata": {
        "id": "3WKYsPxsMNZP"
      }
    },
    {
      "cell_type": "code",
      "source": [
        "classifier = SVC(kernel='linear')\n",
        "classifier.fit(features_train[:15000], targets_train[:15000])\n",
        "prediction = classifier.predict(features_test)"
      ],
      "metadata": {
        "id": "mdPZk06qJOG2"
      },
      "execution_count": 17,
      "outputs": []
    },
    {
      "cell_type": "code",
      "source": [
        "from sklearn.metrics import accuracy_score\n",
        "print(\"Accuracy - {}%\".format(accuracy_score(y_pred=prediction, y_true=targets_test)*100))"
      ],
      "metadata": {
        "colab": {
          "base_uri": "https://localhost:8080/"
        },
        "id": "EqHrmHIdJtfr",
        "outputId": "eaec744e-05ed-4ba2-941e-e6c806e831e6"
      },
      "execution_count": 19,
      "outputs": [
        {
          "output_type": "stream",
          "name": "stdout",
          "text": [
            "Accuracy - 92.19000000000001%\n"
          ]
        }
      ]
    },
    {
      "cell_type": "markdown",
      "source": [
        "**Polynomial Kernel**"
      ],
      "metadata": {
        "id": "CRnJ9NO3MjlC"
      }
    },
    {
      "cell_type": "code",
      "source": [
        "classifier = SVC(kernel='poly')\n",
        "classifier.fit(features_train[:15000], targets_train[:15000])\n",
        "prediction = classifier.predict(features_test)"
      ],
      "metadata": {
        "id": "NfyKl0kyK8kK"
      },
      "execution_count": 20,
      "outputs": []
    },
    {
      "cell_type": "code",
      "source": [
        "print(\"Accuracy - {}%\".format(accuracy_score(y_pred=prediction, y_true=targets_test)*100))"
      ],
      "metadata": {
        "colab": {
          "base_uri": "https://localhost:8080/"
        },
        "id": "wncyu2Y4L_Rg",
        "outputId": "0a9a0594-3be8-4f34-f577-b3578c697c38"
      },
      "execution_count": 22,
      "outputs": [
        {
          "output_type": "stream",
          "name": "stdout",
          "text": [
            "Accuracy - 96.09%\n"
          ]
        }
      ]
    },
    {
      "cell_type": "markdown",
      "source": [
        "**RBF Kernal**"
      ],
      "metadata": {
        "id": "fDt-P26eMY5-"
      }
    },
    {
      "cell_type": "code",
      "source": [
        "classifier = SVC(kernel='rbf')\n",
        "classifier.fit(features_train[:15000], targets_train[:15000])\n",
        "prediction = classifier.predict(features_test)"
      ],
      "metadata": {
        "id": "TIlXZbcJMpCO"
      },
      "execution_count": 23,
      "outputs": []
    },
    {
      "cell_type": "code",
      "source": [
        "print(\"Accuracy - {}%\".format(accuracy_score(y_pred=prediction, y_true=targets_test)*100))"
      ],
      "metadata": {
        "colab": {
          "base_uri": "https://localhost:8080/"
        },
        "id": "BLnQfqINNBIq",
        "outputId": "f493d570-12f0-4bce-eb4f-7d165cc695af"
      },
      "execution_count": 13,
      "outputs": [
        {
          "output_type": "stream",
          "name": "stdout",
          "text": [
            "Accuracy - 96.67%\n"
          ]
        }
      ]
    }
  ]
}