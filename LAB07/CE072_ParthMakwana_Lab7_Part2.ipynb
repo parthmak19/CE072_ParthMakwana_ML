{
  "nbformat": 4,
  "nbformat_minor": 0,
  "metadata": {
    "colab": {
      "name": "CE072_ParthMakwana_Lab7_Part2.ipynb",
      "provenance": [],
      "collapsed_sections": []
    },
    "kernelspec": {
      "name": "python3",
      "display_name": "Python 3"
    },
    "language_info": {
      "name": "python"
    }
  },
  "cells": [
    {
      "cell_type": "code",
      "execution_count": 6,
      "metadata": {
        "id": "-VrB0IjdfbXu"
      },
      "outputs": [],
      "source": [
        "from __future__ import absolute_import, division, print_function\n",
        "import tensorflow as tf\n",
        "import numpy as np"
      ]
    },
    {
      "cell_type": "code",
      "source": [
        "from tensorflow.keras.datasets import mnist\n",
        "\n",
        "(x_train, y_train), (x_test, y_test) = mnist.load_data()\n",
        "\n",
        "# Convert to float32.\n",
        "x_train, x_test = np.array(x_train, np.float32), np.array(x_test, np.float32)\n",
        "\n",
        "# Flatten images to 1-D vector of 784 features (28*28).\n",
        "num_features=784\n",
        "print(x_train.shape)\n",
        "\n",
        "x_train, x_test = x_train.reshape([-1, num_features]), x_test.reshape([-1, num_features])\n",
        "print(x_train.shape)\n",
        "\n",
        "# Normalize images value from [0, 255] to [0, 1].\n",
        "x_train, x_test = x_train / 255., x_test / 255."
      ],
      "metadata": {
        "colab": {
          "base_uri": "https://localhost:8080/"
        },
        "id": "v0ReDou9ftyU",
        "outputId": "97d2b6f7-53d0-4c7a-f755-aac95dfdecfe"
      },
      "execution_count": 18,
      "outputs": [
        {
          "output_type": "stream",
          "name": "stdout",
          "text": [
            "(60000, 28, 28)\n",
            "(60000, 784)\n"
          ]
        }
      ]
    },
    {
      "cell_type": "code",
      "source": [
        "num_classes = 10 \n",
        "num_features = 784 \n",
        "learning_rate = 0.01\n",
        "training_steps = 1000\n",
        "batch_size = 256\n",
        "display_step = 50"
      ],
      "metadata": {
        "id": "8XuFkpCIgECp"
      },
      "execution_count": 19,
      "outputs": []
    },
    {
      "cell_type": "code",
      "source": [
        "train_data=tf.data.Dataset.from_tensor_slices((x_train,y_train))\n",
        "train_data=train_data.repeat().shuffle(5000).batch(batch_size).prefetch(1)\n",
        "print(train_data)"
      ],
      "metadata": {
        "colab": {
          "base_uri": "https://localhost:8080/"
        },
        "id": "w15SCsqhgOr6",
        "outputId": "2b59798a-72ae-4f67-c2fb-7918c79b12f9"
      },
      "execution_count": 9,
      "outputs": [
        {
          "output_type": "stream",
          "name": "stdout",
          "text": [
            "<PrefetchDataset element_spec=(TensorSpec(shape=(None, 784), dtype=tf.float32, name=None), TensorSpec(shape=(None,), dtype=tf.uint8, name=None))>\n"
          ]
        }
      ]
    },
    {
      "cell_type": "code",
      "source": [
        "W = tf.Variable(tf.ones([num_features, num_classes]), name=\"weight\")\n",
        "print(W)\n",
        "\n",
        "b = tf.Variable(tf.zeros([num_classes]), name=\"bias\")\n",
        "print(b)"
      ],
      "metadata": {
        "colab": {
          "base_uri": "https://localhost:8080/"
        },
        "id": "QyYfVXPKgttM",
        "outputId": "0c5cfcae-9b47-4793-d350-f9c1c7692c1c"
      },
      "execution_count": 11,
      "outputs": [
        {
          "output_type": "stream",
          "name": "stdout",
          "text": [
            "<tf.Variable 'weight:0' shape=(784, 10) dtype=float32, numpy=\n",
            "array([[1., 1., 1., ..., 1., 1., 1.],\n",
            "       [1., 1., 1., ..., 1., 1., 1.],\n",
            "       [1., 1., 1., ..., 1., 1., 1.],\n",
            "       ...,\n",
            "       [1., 1., 1., ..., 1., 1., 1.],\n",
            "       [1., 1., 1., ..., 1., 1., 1.],\n",
            "       [1., 1., 1., ..., 1., 1., 1.]], dtype=float32)>\n",
            "<tf.Variable 'bias:0' shape=(10,) dtype=float32, numpy=array([0., 0., 0., 0., 0., 0., 0., 0., 0., 0.], dtype=float32)>\n"
          ]
        }
      ]
    },
    {
      "cell_type": "code",
      "source": [
        "def logistic_regression(x):\n",
        "  # Apply softmax to normalize the logits to a probability distribution.\n",
        "  sm=tf.nn.softmax(tf.matmul(x, W) + b)\n",
        "  return sm\n",
        "\n",
        "def cross_entropy(y_pred, y_true):\n",
        "\n",
        "  # Encode label to a one hot vector.\n",
        "  y_true = tf.one_hot(y_true, depth=num_classes)\n",
        "\n",
        "  # Clip prediction values to avoid log(0) error.\n",
        "  y_pred = tf.clip_by_value(y_pred, 1e-9, 1.)\n",
        "  \n",
        "  # Compute cross-entropy\n",
        "  entropy=tf.reduce_mean(-tf.reduce_sum(y_true * tf.math.log(y_pred)))\n",
        "  return entropy"
      ],
      "metadata": {
        "id": "6XIcujW4g7_c"
      },
      "execution_count": 17,
      "outputs": []
    },
    {
      "cell_type": "code",
      "source": [
        "def accuracy(y_pred, y_true):\n",
        "  correct_prediction = tf.equal(tf.argmax(y_pred, 1), tf.cast(y_true, tf.int64))\n",
        "  acc=tf.reduce_mean(tf.cast(correct_prediction, tf.float32))\n",
        "  return acc\n",
        "\n",
        "optimizer = tf.optimizers.SGD(learning_rate)"
      ],
      "metadata": {
        "id": "-YTS2iVGhMWH"
      },
      "execution_count": 13,
      "outputs": []
    },
    {
      "cell_type": "code",
      "source": [
        "def accuracy(y_pred, y_true):\n",
        "  \n",
        "  # Predicted class is the index of the highest score in prediction vector (i.e. argmax).\n",
        "  correct_prediction = tf.equal(tf.argmax(y_pred, 1), tf.cast(y_true, tf.int64))\n",
        "  acc=tf.reduce_mean(tf.cast(correct_prediction, tf.float32))\n",
        "  return acc\n",
        "\n",
        "optimizer = tf.optimizers.SGD(learning_rate)"
      ],
      "metadata": {
        "id": "usu8DpoPhjkA"
      },
      "execution_count": 21,
      "outputs": []
    },
    {
      "cell_type": "code",
      "source": [
        "def run_optimization(x, y):\n",
        "  \n",
        "  # Wrap computation inside a GradientTape for automatic differentiation.\n",
        "  with tf.GradientTape() as g:\n",
        "    pred = logistic_regression(x)\n",
        "    loss = cross_entropy(pred, y)\n",
        "    \n",
        "  # Compute gradients.\n",
        "  gradients = g.gradient(loss, [W, b])\n",
        "\n",
        "  # Update W and b following gradients.\n",
        "  optimizer.apply_gradients(zip(gradients, [W, b]))"
      ],
      "metadata": {
        "id": "oaSMmnlNhoe5"
      },
      "execution_count": 15,
      "outputs": []
    },
    {
      "cell_type": "code",
      "source": [
        "for step, (batch_x, batch_y) in enumerate(train_data.take(training_steps), 1):\n",
        "  \n",
        "    # Run the optimization to update W and b values.\n",
        "    run_optimization(batch_x, batch_y)\n",
        "    if step % display_step == 0:\n",
        "        pred = logistic_regression(batch_x)\n",
        "        loss = cross_entropy(pred, batch_y)\n",
        "        acc = accuracy(pred, batch_y)\n",
        "        print(\"step: %i, loss: %f, accuracy: %f\" % (step, loss, acc))"
      ],
      "metadata": {
        "colab": {
          "base_uri": "https://localhost:8080/"
        },
        "id": "mQULFLZwjoVR",
        "outputId": "49afeaab-c174-416b-b427-25ee75e04aa5"
      },
      "execution_count": 23,
      "outputs": [
        {
          "output_type": "stream",
          "name": "stdout",
          "text": [
            "step: 50, loss: 493.495117, accuracy: 0.859375\n",
            "step: 100, loss: 690.879822, accuracy: 0.777344\n",
            "step: 150, loss: 444.488373, accuracy: 0.855469\n",
            "step: 200, loss: 461.691803, accuracy: 0.878906\n",
            "step: 250, loss: 722.393555, accuracy: 0.777344\n",
            "step: 300, loss: 647.897644, accuracy: 0.832031\n",
            "step: 350, loss: 517.229919, accuracy: 0.843750\n",
            "step: 400, loss: 846.312805, accuracy: 0.792969\n",
            "step: 450, loss: 658.825439, accuracy: 0.832031\n",
            "step: 500, loss: 524.262512, accuracy: 0.867188\n",
            "step: 550, loss: 458.550446, accuracy: 0.875000\n",
            "step: 600, loss: 657.968201, accuracy: 0.847656\n",
            "step: 650, loss: 619.149719, accuracy: 0.843750\n",
            "step: 700, loss: 640.463013, accuracy: 0.832031\n",
            "step: 750, loss: 547.974731, accuracy: 0.843750\n",
            "step: 800, loss: 439.055145, accuracy: 0.820312\n",
            "step: 850, loss: 330.447327, accuracy: 0.906250\n",
            "step: 900, loss: 589.210754, accuracy: 0.808594\n",
            "step: 950, loss: 645.736816, accuracy: 0.839844\n",
            "step: 1000, loss: 535.106506, accuracy: 0.867188\n"
          ]
        }
      ]
    },
    {
      "cell_type": "code",
      "source": [
        "pred = logistic_regression(x_test)\n",
        "print(\"Test Accuracy: %f\" % accuracy(pred, y_test))"
      ],
      "metadata": {
        "colab": {
          "base_uri": "https://localhost:8080/"
        },
        "id": "hlb26nmij8Y2",
        "outputId": "45f6503a-82f7-4999-e2f7-f023e867913e"
      },
      "execution_count": 26,
      "outputs": [
        {
          "output_type": "stream",
          "name": "stdout",
          "text": [
            "Test Accuracy: 0.837300\n"
          ]
        }
      ]
    }
  ]
}